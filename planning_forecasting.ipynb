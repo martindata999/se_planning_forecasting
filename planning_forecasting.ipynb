{
 "cells": [
  {
   "cell_type": "code",
   "execution_count": 10,
   "metadata": {},
   "outputs": [],
   "source": [
    "# Import modules\n",
    "\n",
    "import pandas as pd\n",
    "import numpy as np\n",
    "from statsmodels.tsa.arima.model import ARIMA\n",
    "import matplotlib.pyplot as plt\n"
   ]
  },
  {
   "cell_type": "code",
   "execution_count": 60,
   "metadata": {},
   "outputs": [
    {
     "data": {
      "application/vnd.microsoft.datawrangler.viewer.v0+json": {
       "columns": [
        {
         "name": "index",
         "rawType": "int64",
         "type": "integer"
        },
        {
         "name": "OrgType",
         "rawType": "object",
         "type": "string"
        },
        {
         "name": "ICBCode",
         "rawType": "object",
         "type": "string"
        },
        {
         "name": "RegionCode",
         "rawType": "object",
         "type": "string"
        },
        {
         "name": "MeasureID",
         "rawType": "float64",
         "type": "float"
        },
        {
         "name": "MeasureName",
         "rawType": "object",
         "type": "string"
        },
        {
         "name": "MeasureType",
         "rawType": "object",
         "type": "string"
        },
        {
         "name": "date",
         "rawType": "datetime64[ns]",
         "type": "datetime"
        },
        {
         "name": "value",
         "rawType": "float64",
         "type": "float"
        }
       ],
       "conversionMethod": "pd.DataFrame",
       "ref": "ebbfb178-a179-48db-8601-c0f9f2da6cdc",
       "rows": [
        [
         "0",
         "Provider",
         "QRL",
         "Y59",
         "1013.0",
         "RTT Waiting List",
         "Total 52 plus weeks",
         "2023-05-01 00:00:00",
         "893.0"
        ],
        [
         "1",
         "Provider",
         "QXU",
         "Y59",
         "1013.0",
         "RTT Waiting List",
         "Total 52 plus weeks",
         "2023-05-01 00:00:00",
         "2830.0"
        ],
        [
         "2",
         "Provider",
         "QNQ",
         "Y59",
         "1013.0",
         "RTT Waiting List",
         "Total 52 plus weeks",
         "2023-05-01 00:00:00",
         "6255.0"
        ],
        [
         "3",
         "Provider",
         "QRL",
         "Y59",
         "1013.0",
         "RTT Waiting List",
         "Total 52 plus weeks",
         "2023-05-01 00:00:00",
         "2191.0"
        ],
        [
         "4",
         "Provider",
         "QRL",
         "Y59",
         "1013.0",
         "RTT Waiting List",
         "Total 52 plus weeks",
         "2023-05-01 00:00:00",
         "1964.0"
        ]
       ],
       "shape": {
        "columns": 8,
        "rows": 5
       }
      },
      "text/html": [
       "<div>\n",
       "<style scoped>\n",
       "    .dataframe tbody tr th:only-of-type {\n",
       "        vertical-align: middle;\n",
       "    }\n",
       "\n",
       "    .dataframe tbody tr th {\n",
       "        vertical-align: top;\n",
       "    }\n",
       "\n",
       "    .dataframe thead th {\n",
       "        text-align: right;\n",
       "    }\n",
       "</style>\n",
       "<table border=\"1\" class=\"dataframe\">\n",
       "  <thead>\n",
       "    <tr style=\"text-align: right;\">\n",
       "      <th></th>\n",
       "      <th>OrgType</th>\n",
       "      <th>ICBCode</th>\n",
       "      <th>RegionCode</th>\n",
       "      <th>MeasureID</th>\n",
       "      <th>MeasureName</th>\n",
       "      <th>MeasureType</th>\n",
       "      <th>date</th>\n",
       "      <th>value</th>\n",
       "    </tr>\n",
       "  </thead>\n",
       "  <tbody>\n",
       "    <tr>\n",
       "      <th>0</th>\n",
       "      <td>Provider</td>\n",
       "      <td>QRL</td>\n",
       "      <td>Y59</td>\n",
       "      <td>1013.0</td>\n",
       "      <td>RTT Waiting List</td>\n",
       "      <td>Total 52 plus weeks</td>\n",
       "      <td>2023-05-01</td>\n",
       "      <td>893.0</td>\n",
       "    </tr>\n",
       "    <tr>\n",
       "      <th>1</th>\n",
       "      <td>Provider</td>\n",
       "      <td>QXU</td>\n",
       "      <td>Y59</td>\n",
       "      <td>1013.0</td>\n",
       "      <td>RTT Waiting List</td>\n",
       "      <td>Total 52 plus weeks</td>\n",
       "      <td>2023-05-01</td>\n",
       "      <td>2830.0</td>\n",
       "    </tr>\n",
       "    <tr>\n",
       "      <th>2</th>\n",
       "      <td>Provider</td>\n",
       "      <td>QNQ</td>\n",
       "      <td>Y59</td>\n",
       "      <td>1013.0</td>\n",
       "      <td>RTT Waiting List</td>\n",
       "      <td>Total 52 plus weeks</td>\n",
       "      <td>2023-05-01</td>\n",
       "      <td>6255.0</td>\n",
       "    </tr>\n",
       "    <tr>\n",
       "      <th>3</th>\n",
       "      <td>Provider</td>\n",
       "      <td>QRL</td>\n",
       "      <td>Y59</td>\n",
       "      <td>1013.0</td>\n",
       "      <td>RTT Waiting List</td>\n",
       "      <td>Total 52 plus weeks</td>\n",
       "      <td>2023-05-01</td>\n",
       "      <td>2191.0</td>\n",
       "    </tr>\n",
       "    <tr>\n",
       "      <th>4</th>\n",
       "      <td>Provider</td>\n",
       "      <td>QRL</td>\n",
       "      <td>Y59</td>\n",
       "      <td>1013.0</td>\n",
       "      <td>RTT Waiting List</td>\n",
       "      <td>Total 52 plus weeks</td>\n",
       "      <td>2023-05-01</td>\n",
       "      <td>1964.0</td>\n",
       "    </tr>\n",
       "  </tbody>\n",
       "</table>\n",
       "</div>"
      ],
      "text/plain": [
       "    OrgType ICBCode RegionCode  MeasureID       MeasureName  \\\n",
       "0  Provider     QRL        Y59     1013.0  RTT Waiting List   \n",
       "1  Provider     QXU        Y59     1013.0  RTT Waiting List   \n",
       "2  Provider     QNQ        Y59     1013.0  RTT Waiting List   \n",
       "3  Provider     QRL        Y59     1013.0  RTT Waiting List   \n",
       "4  Provider     QRL        Y59     1013.0  RTT Waiting List   \n",
       "\n",
       "           MeasureType       date   value  \n",
       "0  Total 52 plus weeks 2023-05-01   893.0  \n",
       "1  Total 52 plus weeks 2023-05-01  2830.0  \n",
       "2  Total 52 plus weeks 2023-05-01  6255.0  \n",
       "3  Total 52 plus weeks 2023-05-01  2191.0  \n",
       "4  Total 52 plus weeks 2023-05-01  1964.0  "
      ]
     },
     "execution_count": 60,
     "metadata": {},
     "output_type": "execute_result"
    }
   ],
   "source": [
    "# Load data\n",
    "# data = pd.read_csv('data.csv')\n",
    "data = pd.read_csv('data\\planning_historic_actuals.csv')\n",
    "data_52wks = data[(data['MeasureID'] == 1013) &\n",
    "                  (data['RegionCode'] == \"Y59\")]\n",
    "\n",
    "# Unpivot data\n",
    "data_52wks = pd.melt(data_52wks, id_vars=data_52wks.columns[1:7], value_vars=data_52wks.columns[8:])\n",
    "\n",
    "# Rename month column, filter error months, and set data type to date\n",
    "data_52wks.rename(columns={'variable': 'date'}, inplace=True)\n",
    "data_52wks = data_52wks.loc[data_52wks['date'].str.len() == 6]\n",
    "data_52wks['date'] = pd.to_datetime(data_52wks['date'], format='%b-%y')\n",
    "\n",
    "data_52wks.head()"
   ]
  },
  {
   "cell_type": "code",
   "execution_count": 61,
   "metadata": {},
   "outputs": [
    {
     "data": {
      "application/vnd.microsoft.datawrangler.viewer.v0+json": {
       "columns": [
        {
         "name": "index",
         "rawType": "int64",
         "type": "integer"
        },
        {
         "name": "date",
         "rawType": "datetime64[ns]",
         "type": "datetime"
        },
        {
         "name": "plan",
         "rawType": "float64",
         "type": "float"
        }
       ],
       "conversionMethod": "pd.DataFrame",
       "ref": "129e2d5f-f781-449a-81a1-d0d8da0b9bb8",
       "rows": [
        [
         "0",
         "2026-01-01 00:00:00",
         "4128.0"
        ],
        [
         "1",
         "2026-02-01 00:00:00",
         "3359.0"
        ],
        [
         "2",
         "2026-03-01 00:00:00",
         "3093.0"
        ],
        [
         "3",
         "2025-04-01 00:00:00",
         "7819.0"
        ],
        [
         "4",
         "2025-05-01 00:00:00",
         "7741.0"
        ]
       ],
       "shape": {
        "columns": 2,
        "rows": 5
       }
      },
      "text/html": [
       "<div>\n",
       "<style scoped>\n",
       "    .dataframe tbody tr th:only-of-type {\n",
       "        vertical-align: middle;\n",
       "    }\n",
       "\n",
       "    .dataframe tbody tr th {\n",
       "        vertical-align: top;\n",
       "    }\n",
       "\n",
       "    .dataframe thead th {\n",
       "        text-align: right;\n",
       "    }\n",
       "</style>\n",
       "<table border=\"1\" class=\"dataframe\">\n",
       "  <thead>\n",
       "    <tr style=\"text-align: right;\">\n",
       "      <th></th>\n",
       "      <th>date</th>\n",
       "      <th>plan</th>\n",
       "    </tr>\n",
       "  </thead>\n",
       "  <tbody>\n",
       "    <tr>\n",
       "      <th>0</th>\n",
       "      <td>2026-01-01</td>\n",
       "      <td>4128.0</td>\n",
       "    </tr>\n",
       "    <tr>\n",
       "      <th>1</th>\n",
       "      <td>2026-02-01</td>\n",
       "      <td>3359.0</td>\n",
       "    </tr>\n",
       "    <tr>\n",
       "      <th>2</th>\n",
       "      <td>2026-03-01</td>\n",
       "      <td>3093.0</td>\n",
       "    </tr>\n",
       "    <tr>\n",
       "      <th>3</th>\n",
       "      <td>2025-04-01</td>\n",
       "      <td>7819.0</td>\n",
       "    </tr>\n",
       "    <tr>\n",
       "      <th>4</th>\n",
       "      <td>2025-05-01</td>\n",
       "      <td>7741.0</td>\n",
       "    </tr>\n",
       "  </tbody>\n",
       "</table>\n",
       "</div>"
      ],
      "text/plain": [
       "        date    plan\n",
       "0 2026-01-01  4128.0\n",
       "1 2026-02-01  3359.0\n",
       "2 2026-03-01  3093.0\n",
       "3 2025-04-01  7819.0\n",
       "4 2025-05-01  7741.0"
      ]
     },
     "execution_count": 61,
     "metadata": {},
     "output_type": "execute_result"
    }
   ],
   "source": [
    "# Load plan data\n",
    "plan = pd.read_csv('data/plans.csv')\n",
    "\n",
    "plan = plan[plan['planning_ref'] == \"E.B.24\"]\n",
    "\n",
    "data_52wks_plan = plan.groupby(['dimension_name']).agg({'numerator': 'sum'}).reset_index()\n",
    "data_52wks_plan = data_52wks_plan.rename(columns={'dimension_name': 'date', 'numerator': 'plan'})\n",
    "data_52wks_plan['date'] = pd.to_datetime(data_52wks_plan['date'], format='%d/%m/%Y')\n",
    "\n",
    "data_52wks_plan.head()"
   ]
  },
  {
   "cell_type": "code",
   "execution_count": 80,
   "metadata": {},
   "outputs": [],
   "source": [
    "# Sum value to region total\n",
    "data_52wks_actual = data_52wks.groupby('date')['value'].sum().reset_index()\n",
    "\n",
    "# Remove 'zero' data\n",
    "data_52wks_actual = data_52wks_actual[data_52wks_actual['value'] != 0]"
   ]
  },
  {
   "cell_type": "code",
   "execution_count": 78,
   "metadata": {},
   "outputs": [
    {
     "data": {
      "application/vnd.microsoft.datawrangler.viewer.v0+json": {
       "columns": [
        {
         "name": "index",
         "rawType": "int64",
         "type": "integer"
        },
        {
         "name": "date",
         "rawType": "datetime64[ns]",
         "type": "datetime"
        },
        {
         "name": "value",
         "rawType": "float64",
         "type": "float"
        },
        {
         "name": "plan",
         "rawType": "float64",
         "type": "float"
        }
       ],
       "conversionMethod": "pd.DataFrame",
       "ref": "b624b023-d18a-4bf3-ab17-e791c90c46a9",
       "rows": [
        [
         "0",
         "2023-05-01 00:00:00",
         "47709.0",
         null
        ],
        [
         "1",
         "2023-06-01 00:00:00",
         "49167.0",
         null
        ],
        [
         "2",
         "2023-07-01 00:00:00",
         "51816.0",
         null
        ],
        [
         "3",
         "2023-08-01 00:00:00",
         "54047.0",
         null
        ],
        [
         "4",
         "2023-09-01 00:00:00",
         "54137.0",
         null
        ]
       ],
       "shape": {
        "columns": 3,
        "rows": 5
       }
      },
      "text/html": [
       "<div>\n",
       "<style scoped>\n",
       "    .dataframe tbody tr th:only-of-type {\n",
       "        vertical-align: middle;\n",
       "    }\n",
       "\n",
       "    .dataframe tbody tr th {\n",
       "        vertical-align: top;\n",
       "    }\n",
       "\n",
       "    .dataframe thead th {\n",
       "        text-align: right;\n",
       "    }\n",
       "</style>\n",
       "<table border=\"1\" class=\"dataframe\">\n",
       "  <thead>\n",
       "    <tr style=\"text-align: right;\">\n",
       "      <th></th>\n",
       "      <th>date</th>\n",
       "      <th>value</th>\n",
       "      <th>plan</th>\n",
       "    </tr>\n",
       "  </thead>\n",
       "  <tbody>\n",
       "    <tr>\n",
       "      <th>0</th>\n",
       "      <td>2023-05-01</td>\n",
       "      <td>47709.0</td>\n",
       "      <td>NaN</td>\n",
       "    </tr>\n",
       "    <tr>\n",
       "      <th>1</th>\n",
       "      <td>2023-06-01</td>\n",
       "      <td>49167.0</td>\n",
       "      <td>NaN</td>\n",
       "    </tr>\n",
       "    <tr>\n",
       "      <th>2</th>\n",
       "      <td>2023-07-01</td>\n",
       "      <td>51816.0</td>\n",
       "      <td>NaN</td>\n",
       "    </tr>\n",
       "    <tr>\n",
       "      <th>3</th>\n",
       "      <td>2023-08-01</td>\n",
       "      <td>54047.0</td>\n",
       "      <td>NaN</td>\n",
       "    </tr>\n",
       "    <tr>\n",
       "      <th>4</th>\n",
       "      <td>2023-09-01</td>\n",
       "      <td>54137.0</td>\n",
       "      <td>NaN</td>\n",
       "    </tr>\n",
       "  </tbody>\n",
       "</table>\n",
       "</div>"
      ],
      "text/plain": [
       "        date    value  plan\n",
       "0 2023-05-01  47709.0   NaN\n",
       "1 2023-06-01  49167.0   NaN\n",
       "2 2023-07-01  51816.0   NaN\n",
       "3 2023-08-01  54047.0   NaN\n",
       "4 2023-09-01  54137.0   NaN"
      ]
     },
     "execution_count": 78,
     "metadata": {},
     "output_type": "execute_result"
    }
   ],
   "source": [
    "# merge data\n",
    "data_52wks_forecast = pd.merge(data_52wks_actual, data_52wks_plan, on='date', how='outer')\n",
    "\n",
    "data_52wks_forecast.head()"
   ]
  },
  {
   "cell_type": "code",
   "execution_count": 74,
   "metadata": {},
   "outputs": [
    {
     "name": "stdout",
     "output_type": "stream",
     "text": [
      "Index(['date', 'value', 'plan'], dtype='object')\n"
     ]
    }
   ],
   "source": [
    "print(data_52wks_forecast.columns)"
   ]
  },
  {
   "cell_type": "code",
   "execution_count": 84,
   "metadata": {},
   "outputs": [],
   "source": [
    "data_52wks_forecast = data_52wks_actual"
   ]
  },
  {
   "cell_type": "code",
   "execution_count": 85,
   "metadata": {},
   "outputs": [
    {
     "name": "stderr",
     "output_type": "stream",
     "text": [
      "c:\\Users\\martin.bloyce2\\AppData\\Local\\anaconda3\\envs\\hsma_forecast\\Lib\\site-packages\\statsmodels\\tsa\\statespace\\sarimax.py:966: UserWarning: Non-stationary starting autoregressive parameters found. Using zeros as starting parameters.\n",
      "  warn('Non-stationary starting autoregressive parameters'\n"
     ]
    },
    {
     "data": {
      "image/png": "[encoded data removed]",
      "text/plain": [
       "<Figure size 1000x500 with 1 Axes>"
      ]
     },
     "metadata": {},
     "output_type": "display_data"
    },
    {
     "name": "stdout",
     "output_type": "stream",
     "text": [
      "Probability of hitting the target by 2026-03-31: 0.00%\n",
      "Last date in training data: 2024-08-31 00:00:00\n"
     ]
    }
   ],
   "source": [
    "\n",
    "# Ensure the date column is parsed as datetime and set as index\n",
    "# data_52wks_forecast['date'] = pd.to_datetime(data_52wks_forecast['date'])\n",
    "data_52wks_forecast = data_52wks_forecast.set_index('date')\n",
    "\n",
    "# Ensure data is in monthly frequency\n",
    "data_52wks_forecast = data_52wks_forecast.resample('M').mean()\n",
    "\n",
    "# Select the column to use for ARIMA model\n",
    "endog = data_52wks_forecast['value']\n",
    "\n",
    "# Define the target date and value\n",
    "target_date = '2026-03-31'\n",
    "target_value = 100\n",
    "\n",
    "# Split data into training and testing sets\n",
    "train = data_52wks_forecast[:int(0.8*len(data_52wks_forecast))]\n",
    "test = data_52wks_forecast[int(0.8*len(data_52wks_forecast)):]\n",
    "\n",
    "# Fit ARIMA model\n",
    "model = ARIMA(endog, order=(5,1,0))\n",
    "model_fit = model.fit()\n",
    "\n",
    "# Forecast up to the target date\n",
    "forecast_steps = len(pd.date_range(start=train.index[-1], end=target_date, freq='M'))\n",
    "forecast_result = model_fit.get_forecast(steps=forecast_steps)\n",
    "forecast = forecast_result.predicted_mean\n",
    "conf_int = forecast_result.conf_int()\n",
    "\n",
    "# Create a date range for the forecast\n",
    "forecast_index = pd.date_range(start=train.index[-1], periods=forecast_steps + 1, freq='M')[1:]\n",
    "\n",
    "# Plot forecast with confidence intervals\n",
    "plt.figure(figsize=(10,5))\n",
    "plt.plot(train, label='Training Data')\n",
    "plt.plot(test, label='Actual Data')\n",
    "plt.plot(forecast_index, forecast, label='Forecast')\n",
    "plt.fill_between(forecast_index, conf_int.iloc[:, 0], conf_int.iloc[:, 1], color='k', alpha=0.1)\n",
    "# Plot the plan data from data_52wks_plan\n",
    "plt.plot(data_52wks_plan['date'], data_52wks_plan['plan'], label='Plan', color='orange', linestyle='--')\n",
    "\n",
    "plt.axhline(y=target_value, color='r', linestyle='--', label='Target Value')\n",
    "# plt.plot(data_52wks_forecast.index, data_52wks_forecast['plan'], label='Plan', color='orange')\n",
    "plt.legend()\n",
    "plt.show()\n",
    "\n",
    "# Calculate probability of hitting target on the target date\n",
    "target_conf_int = conf_int.iloc[-1]  # Confidence interval on the target date\n",
    "probability = np.mean((target_conf_int[0] <= target_value) & (target_conf_int[1] >= target_value))\n",
    "print(f'Probability of hitting the target by {target_date}: {probability*100:.2f}%')\n",
    "\n",
    "print(\"Last date in training data:\", train.index[-1])"
   ]
  }
 ],
 "metadata": {
  "kernelspec": {
   "display_name": "hsma_forecast",
   "language": "python",
   "name": "python3"
  },
  "language_info": {
   "codemirror_mode": {
    "name": "ipython",
    "version": 3
   },
   "file_extension": ".py",
   "mimetype": "text/x-python",
   "name": "python",
   "nbconvert_exporter": "python",
   "pygments_lexer": "ipython3",
   "version": "3.11.4"
  }
 },
 "nbformat": 4,
 "nbformat_minor": 2
}
