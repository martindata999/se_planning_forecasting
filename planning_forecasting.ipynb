{
 "cells": [
  {
   "cell_type": "code",
   "execution_count": 49,
   "metadata": {},
   "outputs": [],
   "source": [
    "# Import modules\n",
    "\n",
    "import pandas as pd\n",
    "import numpy as np\n",
    "from statsmodels.tsa.arima.model import ARIMA\n",
    "import matplotlib.pyplot as plt\n"
   ]
  },
  {
   "cell_type": "code",
   "execution_count": null,
   "metadata": {},
   "outputs": [
    {
     "data": {
      "application/vnd.microsoft.datawrangler.viewer.v0+json": {
       "columns": [
        {
         "name": "index",
         "rawType": "int64",
         "type": "integer"
        },
        {
         "name": "OrgType",
         "rawType": "object",
         "type": "string"
        },
        {
         "name": "ICBCode",
         "rawType": "object",
         "type": "string"
        },
        {
         "name": "RegionCode",
         "rawType": "object",
         "type": "string"
        },
        {
         "name": "MeasureID",
         "rawType": "float64",
         "type": "float"
        },
        {
         "name": "MeasureName",
         "rawType": "object",
         "type": "string"
        },
        {
         "name": "MeasureType",
         "rawType": "object",
         "type": "string"
        },
        {
         "name": "date",
         "rawType": "datetime64[ns]",
         "type": "datetime"
        },
        {
         "name": "value",
         "rawType": "float64",
         "type": "float"
        }
       ],
       "conversionMethod": "pd.DataFrame",
       "ref": "50f6ff1b-2a2a-44bf-9179-44fb93d2aebe",
       "rows": [
        [
         "0",
         "Provider",
         "QOP",
         "Y62",
         "1013.0",
         "RTT Waiting List",
         "Total 52 plus weeks",
         "2023-05-01 00:00:00",
         "28828.0"
        ],
        [
         "1",
         "Provider",
         "QHM",
         "Y63",
         "1013.0",
         "RTT Waiting List",
         "Total 52 plus weeks",
         "2023-05-01 00:00:00",
         "326.0"
        ],
        [
         "2",
         "Provider",
         "QVV",
         "Y58",
         "1013.0",
         "RTT Waiting List",
         "Total 52 plus weeks",
         "2023-05-01 00:00:00",
         "4810.0"
        ],
        [
         "3",
         "Provider",
         "QRL",
         "Y59",
         "1013.0",
         "RTT Waiting List",
         "Total 52 plus weeks",
         "2023-05-01 00:00:00",
         "893.0"
        ],
        [
         "4",
         "Provider",
         "QMF",
         "Y56",
         "1013.0",
         "RTT Waiting List",
         "Total 52 plus weeks",
         "2023-05-01 00:00:00",
         "7275.0"
        ]
       ],
       "shape": {
        "columns": 8,
        "rows": 5
       }
      },
      "text/html": [
       "<div>\n",
       "<style scoped>\n",
       "    .dataframe tbody tr th:only-of-type {\n",
       "        vertical-align: middle;\n",
       "    }\n",
       "\n",
       "    .dataframe tbody tr th {\n",
       "        vertical-align: top;\n",
       "    }\n",
       "\n",
       "    .dataframe thead th {\n",
       "        text-align: right;\n",
       "    }\n",
       "</style>\n",
       "<table border=\"1\" class=\"dataframe\">\n",
       "  <thead>\n",
       "    <tr style=\"text-align: right;\">\n",
       "      <th></th>\n",
       "      <th>OrgType</th>\n",
       "      <th>ICBCode</th>\n",
       "      <th>RegionCode</th>\n",
       "      <th>MeasureID</th>\n",
       "      <th>MeasureName</th>\n",
       "      <th>MeasureType</th>\n",
       "      <th>date</th>\n",
       "      <th>value</th>\n",
       "    </tr>\n",
       "  </thead>\n",
       "  <tbody>\n",
       "    <tr>\n",
       "      <th>0</th>\n",
       "      <td>Provider</td>\n",
       "      <td>QOP</td>\n",
       "      <td>Y62</td>\n",
       "      <td>1013.0</td>\n",
       "      <td>RTT Waiting List</td>\n",
       "      <td>Total 52 plus weeks</td>\n",
       "      <td>2023-05-01</td>\n",
       "      <td>28828.0</td>\n",
       "    </tr>\n",
       "    <tr>\n",
       "      <th>1</th>\n",
       "      <td>Provider</td>\n",
       "      <td>QHM</td>\n",
       "      <td>Y63</td>\n",
       "      <td>1013.0</td>\n",
       "      <td>RTT Waiting List</td>\n",
       "      <td>Total 52 plus weeks</td>\n",
       "      <td>2023-05-01</td>\n",
       "      <td>326.0</td>\n",
       "    </tr>\n",
       "    <tr>\n",
       "      <th>2</th>\n",
       "      <td>Provider</td>\n",
       "      <td>QVV</td>\n",
       "      <td>Y58</td>\n",
       "      <td>1013.0</td>\n",
       "      <td>RTT Waiting List</td>\n",
       "      <td>Total 52 plus weeks</td>\n",
       "      <td>2023-05-01</td>\n",
       "      <td>4810.0</td>\n",
       "    </tr>\n",
       "    <tr>\n",
       "      <th>3</th>\n",
       "      <td>Provider</td>\n",
       "      <td>QRL</td>\n",
       "      <td>Y59</td>\n",
       "      <td>1013.0</td>\n",
       "      <td>RTT Waiting List</td>\n",
       "      <td>Total 52 plus weeks</td>\n",
       "      <td>2023-05-01</td>\n",
       "      <td>893.0</td>\n",
       "    </tr>\n",
       "    <tr>\n",
       "      <th>4</th>\n",
       "      <td>Provider</td>\n",
       "      <td>QMF</td>\n",
       "      <td>Y56</td>\n",
       "      <td>1013.0</td>\n",
       "      <td>RTT Waiting List</td>\n",
       "      <td>Total 52 plus weeks</td>\n",
       "      <td>2023-05-01</td>\n",
       "      <td>7275.0</td>\n",
       "    </tr>\n",
       "  </tbody>\n",
       "</table>\n",
       "</div>"
      ],
      "text/plain": [
       "    OrgType ICBCode RegionCode  MeasureID       MeasureName  \\\n",
       "0  Provider     QOP        Y62     1013.0  RTT Waiting List   \n",
       "1  Provider     QHM        Y63     1013.0  RTT Waiting List   \n",
       "2  Provider     QVV        Y58     1013.0  RTT Waiting List   \n",
       "3  Provider     QRL        Y59     1013.0  RTT Waiting List   \n",
       "4  Provider     QMF        Y56     1013.0  RTT Waiting List   \n",
       "\n",
       "           MeasureType       date    value  \n",
       "0  Total 52 plus weeks 2023-05-01  28828.0  \n",
       "1  Total 52 plus weeks 2023-05-01    326.0  \n",
       "2  Total 52 plus weeks 2023-05-01   4810.0  \n",
       "3  Total 52 plus weeks 2023-05-01    893.0  \n",
       "4  Total 52 plus weeks 2023-05-01   7275.0  "
      ]
     },
     "execution_count": 50,
     "metadata": {},
     "output_type": "execute_result"
    }
   ],
   "source": [
    "# Load data\n",
    "# data = pd.read_csv('data.csv')\n",
    "data = pd.read_csv('data\\planning_historic_actuals.csv')\n",
    "data_52wks = data[data['MeasureID'] == 1013]\n",
    "\n",
    "# Unpivot data\n",
    "data_52wks = pd.melt(data_52wks, id_vars=data_52wks.columns[1:7], value_vars=data_52wks.columns[8:])\n",
    "\n",
    "# Rename month column, filter error months, and set data type to date\n",
    "data_52wks.rename(columns={'variable': 'date'}, inplace=True)\n",
    "data_52wks = data_52wks.loc[data_52wks['date'].str.len() == 6]\n",
    "data_52wks['date'] = pd.to_datetime(data_52wks['date'], format='%b-%y')\n",
    "\n",
    "data_52wks.head()"
   ]
  },
  {
   "cell_type": "code",
   "execution_count": 53,
   "metadata": {},
   "outputs": [],
   "source": [
    "# Sum value to region total\n",
    "data_52wks_forecast = data_52wks.groupby('date')['value'].sum().reset_index()\n",
    "\n",
    "# Remove 'zero' data\n",
    "data_52wks_forecast = data_52wks_forecast[data_52wks_forecast['value'] != 0]"
   ]
  },
  {
   "cell_type": "code",
   "execution_count": 54,
   "metadata": {},
   "outputs": [
    {
     "name": "stderr",
     "output_type": "stream",
     "text": [
      "c:\\Users\\martin.bloyce2\\AppData\\Local\\anaconda3\\envs\\hsma_forecast\\Lib\\site-packages\\statsmodels\\tsa\\base\\tsa_model.py:473: ValueWarning: No frequency information was provided, so inferred frequency MS will be used.\n",
      "  self._init_dates(dates, freq)\n",
      "c:\\Users\\martin.bloyce2\\AppData\\Local\\anaconda3\\envs\\hsma_forecast\\Lib\\site-packages\\statsmodels\\tsa\\base\\tsa_model.py:473: ValueWarning: No frequency information was provided, so inferred frequency MS will be used.\n",
      "  self._init_dates(dates, freq)\n",
      "c:\\Users\\martin.bloyce2\\AppData\\Local\\anaconda3\\envs\\hsma_forecast\\Lib\\site-packages\\statsmodels\\tsa\\base\\tsa_model.py:473: ValueWarning: No frequency information was provided, so inferred frequency MS will be used.\n",
      "  self._init_dates(dates, freq)\n",
      "c:\\Users\\martin.bloyce2\\AppData\\Local\\anaconda3\\envs\\hsma_forecast\\Lib\\site-packages\\statsmodels\\tsa\\statespace\\sarimax.py:966: UserWarning: Non-stationary starting autoregressive parameters found. Using zeros as starting parameters.\n",
      "  warn('Non-stationary starting autoregressive parameters'\n"
     ]
    },
    {
     "data": {
      "image/png": "[encoded data removed]",
      "text/plain": [
       "<Figure size 1000x500 with 1 Axes>"
      ]
     },
     "metadata": {},
     "output_type": "display_data"
    },
    {
     "name": "stdout",
     "output_type": "stream",
     "text": [
      "Probability of hitting the target by 2026-03-31: 0.00%\n"
     ]
    }
   ],
   "source": [
    "\n",
    "# Ensure the date column is parsed as datetime and set as index\n",
    "# data_52wks_forecast['date'] = pd.to_datetime(data_52wks_forecast['date'])\n",
    "data_52wks_forecast = data_52wks_forecast.set_index('date')\n",
    "\n",
    "# Ensure data is in monthly frequency\n",
    "data_52wks_forecast.resample('M').mean()\n",
    "\n",
    "# Select the column to use for ARIMA model\n",
    "endog = data_52wks_forecast['value']\n",
    "\n",
    "# Define the target date and value\n",
    "target_date = '2026-03-31'\n",
    "target_value = 100\n",
    "\n",
    "# Split data into training and testing sets\n",
    "train = data_52wks_forecast[:int(0.8*len(data_52wks_forecast))]\n",
    "test = data_52wks_forecast[int(0.8*len(data_52wks_forecast)):]\n",
    "\n",
    "# Fit ARIMA model\n",
    "model = ARIMA(train, order=(5,1,0))\n",
    "model_fit = model.fit()\n",
    "\n",
    "# Forecast up to the target date\n",
    "forecast_steps = (pd.to_datetime(target_date) - train.index[-1]).days // 30\n",
    "forecast_result = model_fit.get_forecast(steps=forecast_steps)\n",
    "forecast = forecast_result.predicted_mean\n",
    "conf_int = forecast_result.conf_int()\n",
    "\n",
    "# Create a date range for the forecast\n",
    "forecast_index = pd.date_range(start=train.index[-1], periods=forecast_steps, freq='M')\n",
    "\n",
    "# Plot forecast with confidence intervals\n",
    "plt.figure(figsize=(10,5))\n",
    "plt.plot(train, label='Training Data')\n",
    "plt.plot(test, label='Actual Data')\n",
    "plt.plot(forecast_index, forecast, label='Forecast')\n",
    "plt.fill_between(forecast_index, conf_int.iloc[:, 0], conf_int.iloc[:, 1], color='k', alpha=0.1)\n",
    "plt.axhline(y=target_value, color='r', linestyle='--', label='Target Value')\n",
    "plt.legend()\n",
    "plt.show()\n",
    "\n",
    "# Calculate probability of hitting target on the target date\n",
    "target_conf_int = conf_int.iloc[-1]  # Confidence interval on the target date\n",
    "probability = np.mean((target_conf_int[0] <= target_value) & (target_conf_int[1] >= target_value))\n",
    "print(f'Probability of hitting the target by {target_date}: {probability*100:.2f}%')"
   ]
  }
 ],
 "metadata": {
  "kernelspec": {
   "display_name": "hsma_forecast",
   "language": "python",
   "name": "python3"
  },
  "language_info": {
   "codemirror_mode": {
    "name": "ipython",
    "version": 3
   },
   "file_extension": ".py",
   "mimetype": "text/x-python",
   "name": "python",
   "nbconvert_exporter": "python",
   "pygments_lexer": "ipython3",
   "version": "3.11.4"
  }
 },
 "nbformat": 4,
 "nbformat_minor": 2
}
