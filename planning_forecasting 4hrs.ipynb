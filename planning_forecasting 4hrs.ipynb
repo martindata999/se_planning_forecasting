{
 "cells": [
  {
   "cell_type": "code",
   "execution_count": 1,
   "metadata": {},
   "outputs": [],
   "source": [
    "# Import modules\n",
    "\n",
    "import pandas as pd\n",
    "import numpy as np\n",
    "from statsmodels.tsa.arima.model import ARIMA\n",
    "import matplotlib.pyplot as plt\n"
   ]
  },
  {
   "cell_type": "code",
   "execution_count": 3,
   "metadata": {},
   "outputs": [
    {
     "data": {
      "application/vnd.microsoft.datawrangler.viewer.v0+json": {
       "columns": [
        {
         "name": "date",
         "rawType": "datetime64[ns]",
         "type": "datetime"
        },
        {
         "name": "value",
         "rawType": "float64",
         "type": "float"
        }
       ],
       "conversionMethod": "pd.DataFrame",
       "ref": "a81fea1e-8a5c-442f-aa05-b23ec1d913f4",
       "rows": [
        [
         "2024-04-01 00:00:00",
         "0.9731769996787666"
        ],
        [
         "2023-08-01 00:00:00",
         "0.9837209302325581"
        ],
        [
         "2024-08-01 00:00:00",
         "0.9877493396484197"
        ],
        [
         "2023-12-01 00:00:00",
         "0.9775292480544245"
        ],
        [
         "2024-12-01 00:00:00",
         "0.9788856803125532"
        ]
       ],
       "shape": {
        "columns": 1,
        "rows": 5
       }
      },
      "text/html": [
       "<div>\n",
       "<style scoped>\n",
       "    .dataframe tbody tr th:only-of-type {\n",
       "        vertical-align: middle;\n",
       "    }\n",
       "\n",
       "    .dataframe tbody tr th {\n",
       "        vertical-align: top;\n",
       "    }\n",
       "\n",
       "    .dataframe thead th {\n",
       "        text-align: right;\n",
       "    }\n",
       "</style>\n",
       "<table border=\"1\" class=\"dataframe\">\n",
       "  <thead>\n",
       "    <tr style=\"text-align: right;\">\n",
       "      <th>MeasureType</th>\n",
       "      <th>value</th>\n",
       "    </tr>\n",
       "    <tr>\n",
       "      <th>date</th>\n",
       "      <th></th>\n",
       "    </tr>\n",
       "  </thead>\n",
       "  <tbody>\n",
       "    <tr>\n",
       "      <th>2024-04-01</th>\n",
       "      <td>0.973177</td>\n",
       "    </tr>\n",
       "    <tr>\n",
       "      <th>2023-08-01</th>\n",
       "      <td>0.983721</td>\n",
       "    </tr>\n",
       "    <tr>\n",
       "      <th>2024-08-01</th>\n",
       "      <td>0.987749</td>\n",
       "    </tr>\n",
       "    <tr>\n",
       "      <th>2023-12-01</th>\n",
       "      <td>0.977529</td>\n",
       "    </tr>\n",
       "    <tr>\n",
       "      <th>2024-12-01</th>\n",
       "      <td>0.978886</td>\n",
       "    </tr>\n",
       "  </tbody>\n",
       "</table>\n",
       "</div>"
      ],
      "text/plain": [
       "MeasureType     value\n",
       "date                 \n",
       "2024-04-01   0.973177\n",
       "2023-08-01   0.983721\n",
       "2024-08-01   0.987749\n",
       "2023-12-01   0.977529\n",
       "2024-12-01   0.978886"
      ]
     },
     "execution_count": 3,
     "metadata": {},
     "output_type": "execute_result"
    }
   ],
   "source": [
    "# Load data\n",
    "# data = pd.read_csv('data.csv')\n",
    "data = pd.read_csv('data\\planning_historic_actuals.csv')\n",
    "data_4hrs = data[((data['MeasureID'] == 3162) | (data['MeasureID'] == 3163)) & (data['RegionCode'] == \"Y59\")]\n",
    "\n",
    "# Unpivot data\n",
    "data_4hrs = pd.melt(data_4hrs, id_vars=data_4hrs.columns[1:7], value_vars=data_4hrs.columns[8:])\n",
    "\n",
    "# Pivot again...\n",
    "data_4hrs = data_4hrs.pivot_table(index=['variable'],\n",
    "                                    columns='MeasureType', values='value').reset_index()\n",
    "\n",
    "# Rename month column, filter error months, and set data type to date\n",
    "data_4hrs.rename(columns={'variable': 'date'}, inplace=True)\n",
    "data_4hrs = data_4hrs.loc[data_4hrs['date'].str.len() == 6]\n",
    "data_4hrs['date'] = pd.to_datetime(data_4hrs['date'], format='%b-%y')\n",
    "\n",
    "# Calculate measure\n",
    "data_4hrs['value'] = data_4hrs['Total Attendances < 4 hours (All Type)'] / data_4hrs['Total attendances (All Type)']\n",
    "\n",
    "# Keep only relevant columns and set index\n",
    "data_4hrs = data_4hrs[['date', 'value']].set_index('date')\n",
    "\n",
    "data_4hrs.head()"
   ]
  },
  {
   "cell_type": "code",
   "execution_count": 4,
   "metadata": {},
   "outputs": [
    {
     "data": {
      "application/vnd.microsoft.datawrangler.viewer.v0+json": {
       "columns": [
        {
         "name": "index",
         "rawType": "int64",
         "type": "integer"
        },
        {
         "name": "date",
         "rawType": "datetime64[ns]",
         "type": "datetime"
        },
        {
         "name": "numerator",
         "rawType": "float64",
         "type": "float"
        },
        {
         "name": "denominator",
         "rawType": "float64",
         "type": "float"
        },
        {
         "name": "plan",
         "rawType": "float64",
         "type": "float"
        }
       ],
       "conversionMethod": "pd.DataFrame",
       "ref": "23c373b1-ee9a-4108-abc7-7278018f925c",
       "rows": [
        [
         "0",
         "2026-01-01 00:00:00",
         "773044.0",
         "1005709.0",
         "0.7686557443554746"
        ],
        [
         "1",
         "2026-02-01 00:00:00",
         "750417.0",
         "959525.0",
         "0.7820713373804747"
        ],
        [
         "2",
         "2026-03-01 00:00:00",
         "852658.0",
         "1059060.0",
         "0.805108303589976"
        ],
        [
         "3",
         "2025-04-01 00:00:00",
         "748495.0",
         "978349.0",
         "0.765059298880052"
        ],
        [
         "4",
         "2025-05-01 00:00:00",
         "804636.0",
         "1045480.0",
         "0.7696330871943987"
        ]
       ],
       "shape": {
        "columns": 4,
        "rows": 5
       }
      },
      "text/html": [
       "<div>\n",
       "<style scoped>\n",
       "    .dataframe tbody tr th:only-of-type {\n",
       "        vertical-align: middle;\n",
       "    }\n",
       "\n",
       "    .dataframe tbody tr th {\n",
       "        vertical-align: top;\n",
       "    }\n",
       "\n",
       "    .dataframe thead th {\n",
       "        text-align: right;\n",
       "    }\n",
       "</style>\n",
       "<table border=\"1\" class=\"dataframe\">\n",
       "  <thead>\n",
       "    <tr style=\"text-align: right;\">\n",
       "      <th></th>\n",
       "      <th>date</th>\n",
       "      <th>numerator</th>\n",
       "      <th>denominator</th>\n",
       "      <th>plan</th>\n",
       "    </tr>\n",
       "  </thead>\n",
       "  <tbody>\n",
       "    <tr>\n",
       "      <th>0</th>\n",
       "      <td>2026-01-01</td>\n",
       "      <td>773044.0</td>\n",
       "      <td>1005709.0</td>\n",
       "      <td>0.768656</td>\n",
       "    </tr>\n",
       "    <tr>\n",
       "      <th>1</th>\n",
       "      <td>2026-02-01</td>\n",
       "      <td>750417.0</td>\n",
       "      <td>959525.0</td>\n",
       "      <td>0.782071</td>\n",
       "    </tr>\n",
       "    <tr>\n",
       "      <th>2</th>\n",
       "      <td>2026-03-01</td>\n",
       "      <td>852658.0</td>\n",
       "      <td>1059060.0</td>\n",
       "      <td>0.805108</td>\n",
       "    </tr>\n",
       "    <tr>\n",
       "      <th>3</th>\n",
       "      <td>2025-04-01</td>\n",
       "      <td>748495.0</td>\n",
       "      <td>978349.0</td>\n",
       "      <td>0.765059</td>\n",
       "    </tr>\n",
       "    <tr>\n",
       "      <th>4</th>\n",
       "      <td>2025-05-01</td>\n",
       "      <td>804636.0</td>\n",
       "      <td>1045480.0</td>\n",
       "      <td>0.769633</td>\n",
       "    </tr>\n",
       "  </tbody>\n",
       "</table>\n",
       "</div>"
      ],
      "text/plain": [
       "        date  numerator  denominator      plan\n",
       "0 2026-01-01   773044.0    1005709.0  0.768656\n",
       "1 2026-02-01   750417.0     959525.0  0.782071\n",
       "2 2026-03-01   852658.0    1059060.0  0.805108\n",
       "3 2025-04-01   748495.0     978349.0  0.765059\n",
       "4 2025-05-01   804636.0    1045480.0  0.769633"
      ]
     },
     "execution_count": 4,
     "metadata": {},
     "output_type": "execute_result"
    }
   ],
   "source": [
    "# Load plan data\n",
    "plan = pd.read_csv('data/plans.csv')\n",
    "\n",
    "plan = plan[plan['planning_ref'] == \"E.M.13\"] # E.M.13, 4hrs\n",
    "\n",
    "data_4hrs_plan = plan.groupby(['dimension_name']).agg({'numerator': 'sum', 'denominator': 'sum'}).reset_index()\n",
    "\n",
    "# Calculate performance measure\n",
    "data_4hrs_plan['plan'] = data_4hrs_plan['numerator'] / data_4hrs_plan['denominator']\n",
    "\n",
    "data_4hrs_plan = data_4hrs_plan.rename(columns={'dimension_name': 'date'})\n",
    "data_4hrs_plan['date'] = pd.to_datetime(data_4hrs_plan['date'], format='%d/%m/%Y')\n",
    "\n",
    "# # Change date to end of month to match actuals\n",
    "# data_4hrs_plan['date'] = data_4hrs_plan['date'] + pd.offsets.MonthEnd(0)\n",
    "\n",
    "data_4hrs_plan.head()"
   ]
  },
  {
   "cell_type": "code",
   "execution_count": 5,
   "metadata": {},
   "outputs": [],
   "source": [
    "# Sum value to region total\n",
    "data_4hrs_actual = data_4hrs.groupby('date')['value'].sum().reset_index()\n",
    "\n",
    "# Remove 'zero' data\n",
    "data_4hrs_actual = data_4hrs_actual[data_4hrs_actual['value'] != 0]"
   ]
  },
  {
   "cell_type": "code",
   "execution_count": 6,
   "metadata": {},
   "outputs": [
    {
     "data": {
      "application/vnd.microsoft.datawrangler.viewer.v0+json": {
       "columns": [
        {
         "name": "index",
         "rawType": "int64",
         "type": "integer"
        },
        {
         "name": "date",
         "rawType": "datetime64[ns]",
         "type": "datetime"
        },
        {
         "name": "plan",
         "rawType": "float64",
         "type": "float"
        }
       ],
       "conversionMethod": "pd.DataFrame",
       "ref": "2f96cce6-b96f-4f20-9373-3976c7f81153",
       "rows": [
        [
         "0",
         "2023-05-31 00:00:00",
         null
        ],
        [
         "1",
         "2023-06-30 00:00:00",
         null
        ],
        [
         "2",
         "2023-07-31 00:00:00",
         null
        ],
        [
         "3",
         "2023-08-31 00:00:00",
         null
        ],
        [
         "4",
         "2023-09-30 00:00:00",
         null
        ]
       ],
       "shape": {
        "columns": 2,
        "rows": 5
       }
      },
      "text/html": [
       "<div>\n",
       "<style scoped>\n",
       "    .dataframe tbody tr th:only-of-type {\n",
       "        vertical-align: middle;\n",
       "    }\n",
       "\n",
       "    .dataframe tbody tr th {\n",
       "        vertical-align: top;\n",
       "    }\n",
       "\n",
       "    .dataframe thead th {\n",
       "        text-align: right;\n",
       "    }\n",
       "</style>\n",
       "<table border=\"1\" class=\"dataframe\">\n",
       "  <thead>\n",
       "    <tr style=\"text-align: right;\">\n",
       "      <th></th>\n",
       "      <th>date</th>\n",
       "      <th>plan</th>\n",
       "    </tr>\n",
       "  </thead>\n",
       "  <tbody>\n",
       "    <tr>\n",
       "      <th>0</th>\n",
       "      <td>2023-05-31</td>\n",
       "      <td>NaN</td>\n",
       "    </tr>\n",
       "    <tr>\n",
       "      <th>1</th>\n",
       "      <td>2023-06-30</td>\n",
       "      <td>NaN</td>\n",
       "    </tr>\n",
       "    <tr>\n",
       "      <th>2</th>\n",
       "      <td>2023-07-31</td>\n",
       "      <td>NaN</td>\n",
       "    </tr>\n",
       "    <tr>\n",
       "      <th>3</th>\n",
       "      <td>2023-08-31</td>\n",
       "      <td>NaN</td>\n",
       "    </tr>\n",
       "    <tr>\n",
       "      <th>4</th>\n",
       "      <td>2023-09-30</td>\n",
       "      <td>NaN</td>\n",
       "    </tr>\n",
       "  </tbody>\n",
       "</table>\n",
       "</div>"
      ],
      "text/plain": [
       "        date  plan\n",
       "0 2023-05-31   NaN\n",
       "1 2023-06-30   NaN\n",
       "2 2023-07-31   NaN\n",
       "3 2023-08-31   NaN\n",
       "4 2023-09-30   NaN"
      ]
     },
     "execution_count": 6,
     "metadata": {},
     "output_type": "execute_result"
    }
   ],
   "source": [
    "# merge data\n",
    "data_4hrs_plan = pd.merge(data_4hrs_actual, data_4hrs_plan, on='date', how='outer')\n",
    "\n",
    "data_4hrs_plan = data_4hrs_plan[['date', 'plan']]\n",
    "\n",
    "# Change date to end of month to match actuals\n",
    "data_4hrs_plan['date'] = data_4hrs_plan['date'] + pd.offsets.MonthEnd(0)\n",
    "\n",
    "data_4hrs_plan.head()"
   ]
  },
  {
   "cell_type": "code",
   "execution_count": null,
   "metadata": {},
   "outputs": [
    {
     "name": "stdout",
     "output_type": "stream",
     "text": [
      "Index(['date', 'value', 'plan'], dtype='object')\n"
     ]
    }
   ],
   "source": [
    "print(data_52wks_forecast.columns)"
   ]
  },
  {
   "cell_type": "code",
   "execution_count": null,
   "metadata": {},
   "outputs": [],
   "source": []
  },
  {
   "cell_type": "code",
   "execution_count": null,
   "metadata": {},
   "outputs": [
    {
     "name": "stderr",
     "output_type": "stream",
     "text": [
      "c:\\Users\\martin.bloyce2\\AppData\\Local\\anaconda3\\envs\\hsma_forecast\\Lib\\site-packages\\statsmodels\\tsa\\base\\tsa_model.py:473: ValueWarning: A date index has been provided, but it has no associated frequency information and so will be ignored when e.g. forecasting.\n",
      "  self._init_dates(dates, freq)\n",
      "c:\\Users\\martin.bloyce2\\AppData\\Local\\anaconda3\\envs\\hsma_forecast\\Lib\\site-packages\\statsmodels\\tsa\\base\\tsa_model.py:473: ValueWarning: A date index has been provided, but it has no associated frequency information and so will be ignored when e.g. forecasting.\n",
      "  self._init_dates(dates, freq)\n",
      "c:\\Users\\martin.bloyce2\\AppData\\Local\\anaconda3\\envs\\hsma_forecast\\Lib\\site-packages\\statsmodels\\tsa\\base\\tsa_model.py:473: ValueWarning: A date index has been provided, but it has no associated frequency information and so will be ignored when e.g. forecasting.\n",
      "  self._init_dates(dates, freq)\n",
      "c:\\Users\\martin.bloyce2\\AppData\\Local\\anaconda3\\envs\\hsma_forecast\\Lib\\site-packages\\statsmodels\\tsa\\base\\tsa_model.py:837: ValueWarning: No supported index is available. Prediction results will be given with an integer index beginning at `start`.\n",
      "  return get_prediction_index(\n",
      "c:\\Users\\martin.bloyce2\\AppData\\Local\\anaconda3\\envs\\hsma_forecast\\Lib\\site-packages\\statsmodels\\tsa\\base\\tsa_model.py:837: FutureWarning: No supported index is available. In the next version, calling this method in a model without a supported index will result in an exception.\n",
      "  return get_prediction_index(\n"
     ]
    },
    {
     "data": {
      "image/png": "[encoded data removed]",
      "text/plain": [
       "<Figure size 1000x500 with 1 Axes>"
      ]
     },
     "metadata": {},
     "output_type": "display_data"
    },
    {
     "name": "stdout",
     "output_type": "stream",
     "text": [
      "Probability of hitting the target by 2026-03-31: 100.00%\n",
      "Last date in training data: 2024-08-31 00:00:00\n",
      "               value\n",
      "date                \n",
      "2023-05-31  0.968634\n",
      "2023-06-30  0.968242\n",
      "2023-07-31  0.986363\n",
      "2023-08-31  0.983721\n",
      "2023-09-30  0.973580\n",
      "2023-10-31  0.968030\n",
      "2023-11-30  0.973242\n",
      "2023-12-31  0.977529\n",
      "2024-01-31  0.973739\n",
      "2024-02-29  0.975805\n",
      "2024-03-31  0.972545\n",
      "2024-04-30  0.973177\n",
      "2024-05-31  0.976123\n",
      "2024-06-30  0.981367\n",
      "2024-07-31  0.982328\n",
      "2024-08-31  0.987749\n"
     ]
    }
   ],
   "source": [
    "data_4hrs_forecast = data_4hrs_actual\n",
    "\n",
    "# Ensure the date column is parsed as datetime and set as index\n",
    "# data_52wks_forecast['date'] = pd.to_datetime(data_52wks_forecast['date'])\n",
    "data_4hrs_forecast = data_4hrs_forecast.set_index('date')\n",
    "\n",
    "# Ensure data is in monthly frequency\n",
    "data_4hrs_forecast = data_4hrs_forecast.resample('M').mean()\n",
    "\n",
    "# Combine the date ranges from forecast and plan\n",
    "combined_dates = data_4hrs_forecast.index.union(data_4hrs_plan['date'])\n",
    "\n",
    "# Reindex data_4hrs_forecast to include all dates in the combined range\n",
    "data_4hrs_forecast = data_4hrs_forecast.reindex(combined_dates)\n",
    "\n",
    "# Reset plan index to match forecast index\n",
    "data_4hrs_plan = data_4hrs_plan.set_index('date').reindex(data_4hrs_forecast.index).reset_index()\n",
    "\n",
    "# Select the column to use for ARIMA model\n",
    "endog = data_4hrs_forecast['value']\n",
    "\n",
    "# Define the target date and value\n",
    "target_date = '2026-03-31'\n",
    "target_value = 1\n",
    "\n",
    "# Split data into training and testing sets\n",
    "# Find the length of data_4hrs_forecast ignoring missing values\n",
    "length = len(data_4hrs_forecast.dropna())\n",
    "train = data_4hrs_forecast[:int(0.8*length)]\n",
    "test = data_4hrs_forecast[int(0.8*length):]\n",
    "\n",
    "# Fit ARIMA model\n",
    "model = ARIMA(endog, order=(5,1,0))\n",
    "model_fit = model.fit()\n",
    "\n",
    "# Forecast up to the target date\n",
    "forecast_steps = len(pd.date_range(start=train.index[-1], end=target_date, freq='M'))\n",
    "forecast_result = model_fit.get_forecast(steps=forecast_steps)\n",
    "forecast = forecast_result.predicted_mean\n",
    "conf_int = forecast_result.conf_int()\n",
    "\n",
    "# Create a date range for the forecast\n",
    "forecast_index = pd.date_range(start=train.index[-1], periods=forecast_steps + 1, freq='M')[1:]\n",
    "\n",
    "# Plot forecast with confidence intervals\n",
    "plt.figure(figsize=(10,5))\n",
    "plt.plot(train.index, train['value'], label='Training Data')\n",
    "plt.plot(test.index, test['value'], label='Actual Data')\n",
    "plt.plot(forecast_index, forecast, label='Forecast')\n",
    "plt.fill_between(forecast_index, conf_int.iloc[:, 0], conf_int.iloc[:, 1], color='k', alpha=0.1)\n",
    "# Plot the plan data from data_4hrs_plan\n",
    "plt.plot(data_4hrs_plan['date'], data_4hrs_plan['plan'], label='Plan', color='orange', linestyle='--')\n",
    "\n",
    "plt.axhline(y=target_value, color='r', linestyle='--', label='Target Value')\n",
    "# plt.plot(data_52wks_forecast.index, data_52wks_forecast['plan'], label='Plan', color='orange')\n",
    "plt.legend()\n",
    "plt.show()\n",
    "\n",
    "# Calculate probability of hitting target on the target date\n",
    "target_conf_int = conf_int.iloc[-1]  # Confidence interval on the target date\n",
    "probability = np.mean((target_conf_int[0] <= target_value) & (target_conf_int[1] >= target_value))\n",
    "print(f'Probability of hitting the target by {target_date}: {probability*100:.2f}%')\n",
    "\n",
    "print(\"Last date in training data:\", train.index[-1])"
   ]
  }
 ],
 "metadata": {
  "kernelspec": {
   "display_name": "hsma_forecast",
   "language": "python",
   "name": "python3"
  },
  "language_info": {
   "codemirror_mode": {
    "name": "ipython",
    "version": 3
   },
   "file_extension": ".py",
   "mimetype": "text/x-python",
   "name": "python",
   "nbconvert_exporter": "python",
   "pygments_lexer": "ipython3",
   "version": "3.11.4"
  }
 },
 "nbformat": 4,
 "nbformat_minor": 2
}
