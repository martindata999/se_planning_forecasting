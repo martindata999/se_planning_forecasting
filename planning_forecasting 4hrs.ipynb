{
 "cells": [
  {
   "cell_type": "code",
   "execution_count": 2,
   "metadata": {},
   "outputs": [],
   "source": [
    "# Import modules\n",
    "\n",
    "import pandas as pd\n",
    "import numpy as np\n",
    "from statsmodels.tsa.arima.model import ARIMA\n",
    "import matplotlib.pyplot as plt\n",
    "import matplotlib.ticker as mtick  # Import PercentFormatter\n"
   ]
  },
  {
   "cell_type": "code",
   "execution_count": 5,
   "metadata": {},
   "outputs": [
    {
     "data": {
      "application/vnd.microsoft.datawrangler.viewer.v0+json": {
       "columns": [
        {
         "name": "index",
         "rawType": "int64",
         "type": "integer"
        },
        {
         "name": "date",
         "rawType": "datetime64[ns]",
         "type": "datetime"
        },
        {
         "name": "value",
         "rawType": "float64",
         "type": "float"
        }
       ],
       "conversionMethod": "pd.DataFrame",
       "ref": "69093582-e37a-4c47-8a05-7e53bcac2d04",
       "rows": [
        [
         "0",
         "2023-11-01 00:00:00",
         "0.6619733878129752"
        ],
        [
         "1",
         "2022-04-01 00:00:00",
         "0.5975372678010415"
        ],
        [
         "2",
         "2023-12-01 00:00:00",
         "0.6546678372841674"
        ],
        [
         "3",
         "2022-09-01 00:00:00",
         "0.578043980562647"
        ],
        [
         "4",
         "2025-01-01 00:00:00",
         "0.7146213805329656"
        ]
       ],
       "shape": {
        "columns": 2,
        "rows": 5
       }
      },
      "text/html": [
       "<div>\n",
       "<style scoped>\n",
       "    .dataframe tbody tr th:only-of-type {\n",
       "        vertical-align: middle;\n",
       "    }\n",
       "\n",
       "    .dataframe tbody tr th {\n",
       "        vertical-align: top;\n",
       "    }\n",
       "\n",
       "    .dataframe thead th {\n",
       "        text-align: right;\n",
       "    }\n",
       "</style>\n",
       "<table border=\"1\" class=\"dataframe\">\n",
       "  <thead>\n",
       "    <tr style=\"text-align: right;\">\n",
       "      <th></th>\n",
       "      <th>date</th>\n",
       "      <th>value</th>\n",
       "    </tr>\n",
       "  </thead>\n",
       "  <tbody>\n",
       "    <tr>\n",
       "      <th>0</th>\n",
       "      <td>2023-11-01</td>\n",
       "      <td>0.661973</td>\n",
       "    </tr>\n",
       "    <tr>\n",
       "      <th>1</th>\n",
       "      <td>2022-04-01</td>\n",
       "      <td>0.597537</td>\n",
       "    </tr>\n",
       "    <tr>\n",
       "      <th>2</th>\n",
       "      <td>2023-12-01</td>\n",
       "      <td>0.654668</td>\n",
       "    </tr>\n",
       "    <tr>\n",
       "      <th>3</th>\n",
       "      <td>2022-09-01</td>\n",
       "      <td>0.578044</td>\n",
       "    </tr>\n",
       "    <tr>\n",
       "      <th>4</th>\n",
       "      <td>2025-01-01</td>\n",
       "      <td>0.714621</td>\n",
       "    </tr>\n",
       "  </tbody>\n",
       "</table>\n",
       "</div>"
      ],
      "text/plain": [
       "        date     value\n",
       "0 2023-11-01  0.661973\n",
       "1 2022-04-01  0.597537\n",
       "2 2023-12-01  0.654668\n",
       "3 2022-09-01  0.578044\n",
       "4 2025-01-01  0.714621"
      ]
     },
     "execution_count": 5,
     "metadata": {},
     "output_type": "execute_result"
    }
   ],
   "source": [
    "# Load data\n",
    "# data = pd.read_csv('data.csv')\n",
    "data_4hrs_actual = pd.read_csv('data\\historic_actuals.csv')\n",
    "\n",
    "# Rename month column, filter error months, and set data type to date\n",
    "data_4hrs_actual = data_4hrs_actual.rename(columns={'DimDateStart': 'date', '4hrs': 'value'})\n",
    "# data = data.loc[data['date'].str.len() == 6]\n",
    "# data['date'] = pd.to_datetime(data['date'], format='%b-%y')\n",
    "\n",
    "data_4hrs_actual['date'] = pd.to_datetime(data_4hrs_actual['date'])\n",
    "\n",
    "# # Calculate measure\n",
    "# data_4hrs['value'] = data_4hrs['Total Attendances < 4 hours (All Type)'] / data_4hrs['Total attendances (All Type)']\n",
    "\n",
    "# # Keep only relevant columns and set index\n",
    "# data_4hrs = data_4hrs[['date', 'value']].set_index('date')\n",
    "\n",
    "data_4hrs_actual.head()"
   ]
  },
  {
   "cell_type": "code",
   "execution_count": 9,
   "metadata": {},
   "outputs": [
    {
     "data": {
      "application/vnd.microsoft.datawrangler.viewer.v0+json": {
       "columns": [
        {
         "name": "index",
         "rawType": "int64",
         "type": "integer"
        },
        {
         "name": "date",
         "rawType": "datetime64[ns]",
         "type": "datetime"
        },
        {
         "name": "plan",
         "rawType": "float64",
         "type": "float"
        }
       ],
       "conversionMethod": "pd.DataFrame",
       "ref": "104270f8-9163-4b7a-84ef-a5cae7a6e499",
       "rows": [
        [
         "0",
         null,
         "0.746211995236049"
        ],
        [
         "1",
         "2025-05-01 00:00:00",
         "0.734328694089556"
        ],
        [
         "2",
         "2026-03-01 00:00:00",
         "0.7819816303025806"
        ],
        [
         "3",
         "2025-11-01 00:00:00",
         "0.7385486779693636"
        ],
        [
         "4",
         "2026-02-01 00:00:00",
         "0.7502389885572998"
        ]
       ],
       "shape": {
        "columns": 2,
        "rows": 5
       }
      },
      "text/html": [
       "<div>\n",
       "<style scoped>\n",
       "    .dataframe tbody tr th:only-of-type {\n",
       "        vertical-align: middle;\n",
       "    }\n",
       "\n",
       "    .dataframe tbody tr th {\n",
       "        vertical-align: top;\n",
       "    }\n",
       "\n",
       "    .dataframe thead th {\n",
       "        text-align: right;\n",
       "    }\n",
       "</style>\n",
       "<table border=\"1\" class=\"dataframe\">\n",
       "  <thead>\n",
       "    <tr style=\"text-align: right;\">\n",
       "      <th></th>\n",
       "      <th>date</th>\n",
       "      <th>plan</th>\n",
       "    </tr>\n",
       "  </thead>\n",
       "  <tbody>\n",
       "    <tr>\n",
       "      <th>0</th>\n",
       "      <td>NaT</td>\n",
       "      <td>0.746212</td>\n",
       "    </tr>\n",
       "    <tr>\n",
       "      <th>1</th>\n",
       "      <td>2025-05-01</td>\n",
       "      <td>0.734329</td>\n",
       "    </tr>\n",
       "    <tr>\n",
       "      <th>2</th>\n",
       "      <td>2026-03-01</td>\n",
       "      <td>0.781982</td>\n",
       "    </tr>\n",
       "    <tr>\n",
       "      <th>3</th>\n",
       "      <td>2025-11-01</td>\n",
       "      <td>0.738549</td>\n",
       "    </tr>\n",
       "    <tr>\n",
       "      <th>4</th>\n",
       "      <td>2026-02-01</td>\n",
       "      <td>0.750239</td>\n",
       "    </tr>\n",
       "  </tbody>\n",
       "</table>\n",
       "</div>"
      ],
      "text/plain": [
       "        date      plan\n",
       "0        NaT  0.746212\n",
       "1 2025-05-01  0.734329\n",
       "2 2026-03-01  0.781982\n",
       "3 2025-11-01  0.738549\n",
       "4 2026-02-01  0.750239"
      ]
     },
     "execution_count": 9,
     "metadata": {},
     "output_type": "execute_result"
    }
   ],
   "source": [
    "# Load plan data\n",
    "data_4hrs_plan = pd.read_csv('data\\plans_1.csv')\n",
    "\n",
    "# Rename month column, filter error months, and set data type to date\n",
    "data_4hrs_plan = data_4hrs_plan.rename(columns={'DimDateStart': 'date', '4hrs': 'plan'})\n",
    "\n",
    "data_4hrs_plan['date'] = pd.to_datetime(data_4hrs_plan['date'])\n",
    "\n",
    "data_4hrs_plan.head()"
   ]
  },
  {
   "cell_type": "code",
   "execution_count": 10,
   "metadata": {},
   "outputs": [
    {
     "data": {
      "application/vnd.microsoft.datawrangler.viewer.v0+json": {
       "columns": [
        {
         "name": "index",
         "rawType": "int64",
         "type": "integer"
        },
        {
         "name": "date",
         "rawType": "datetime64[ns]",
         "type": "datetime"
        },
        {
         "name": "numerator",
         "rawType": "float64",
         "type": "float"
        },
        {
         "name": "denominator",
         "rawType": "float64",
         "type": "float"
        },
        {
         "name": "plan",
         "rawType": "float64",
         "type": "float"
        }
       ],
       "conversionMethod": "pd.DataFrame",
       "ref": "39426e3c-d445-4d08-8f6f-896b8d170463",
       "rows": [
        [
         "0",
         "2026-01-01 00:00:00",
         "773044.0",
         "1005709.0",
         "0.7686557443554746"
        ],
        [
         "1",
         "2026-02-01 00:00:00",
         "750417.0",
         "959525.0",
         "0.7820713373804747"
        ],
        [
         "2",
         "2026-03-01 00:00:00",
         "852658.0",
         "1059060.0",
         "0.805108303589976"
        ],
        [
         "3",
         "2025-04-01 00:00:00",
         "748495.0",
         "978349.0",
         "0.765059298880052"
        ],
        [
         "4",
         "2025-05-01 00:00:00",
         "804636.0",
         "1045480.0",
         "0.7696330871943987"
        ]
       ],
       "shape": {
        "columns": 4,
        "rows": 5
       }
      },
      "text/html": [
       "<div>\n",
       "<style scoped>\n",
       "    .dataframe tbody tr th:only-of-type {\n",
       "        vertical-align: middle;\n",
       "    }\n",
       "\n",
       "    .dataframe tbody tr th {\n",
       "        vertical-align: top;\n",
       "    }\n",
       "\n",
       "    .dataframe thead th {\n",
       "        text-align: right;\n",
       "    }\n",
       "</style>\n",
       "<table border=\"1\" class=\"dataframe\">\n",
       "  <thead>\n",
       "    <tr style=\"text-align: right;\">\n",
       "      <th></th>\n",
       "      <th>date</th>\n",
       "      <th>numerator</th>\n",
       "      <th>denominator</th>\n",
       "      <th>plan</th>\n",
       "    </tr>\n",
       "  </thead>\n",
       "  <tbody>\n",
       "    <tr>\n",
       "      <th>0</th>\n",
       "      <td>2026-01-01</td>\n",
       "      <td>773044.0</td>\n",
       "      <td>1005709.0</td>\n",
       "      <td>0.768656</td>\n",
       "    </tr>\n",
       "    <tr>\n",
       "      <th>1</th>\n",
       "      <td>2026-02-01</td>\n",
       "      <td>750417.0</td>\n",
       "      <td>959525.0</td>\n",
       "      <td>0.782071</td>\n",
       "    </tr>\n",
       "    <tr>\n",
       "      <th>2</th>\n",
       "      <td>2026-03-01</td>\n",
       "      <td>852658.0</td>\n",
       "      <td>1059060.0</td>\n",
       "      <td>0.805108</td>\n",
       "    </tr>\n",
       "    <tr>\n",
       "      <th>3</th>\n",
       "      <td>2025-04-01</td>\n",
       "      <td>748495.0</td>\n",
       "      <td>978349.0</td>\n",
       "      <td>0.765059</td>\n",
       "    </tr>\n",
       "    <tr>\n",
       "      <th>4</th>\n",
       "      <td>2025-05-01</td>\n",
       "      <td>804636.0</td>\n",
       "      <td>1045480.0</td>\n",
       "      <td>0.769633</td>\n",
       "    </tr>\n",
       "  </tbody>\n",
       "</table>\n",
       "</div>"
      ],
      "text/plain": [
       "        date  numerator  denominator      plan\n",
       "0 2026-01-01   773044.0    1005709.0  0.768656\n",
       "1 2026-02-01   750417.0     959525.0  0.782071\n",
       "2 2026-03-01   852658.0    1059060.0  0.805108\n",
       "3 2025-04-01   748495.0     978349.0  0.765059\n",
       "4 2025-05-01   804636.0    1045480.0  0.769633"
      ]
     },
     "execution_count": 10,
     "metadata": {},
     "output_type": "execute_result"
    }
   ],
   "source": [
    "# Load plan data\n",
    "plan = pd.read_csv('data/plans.csv')\n",
    "\n",
    "plan = plan[plan['planning_ref'] == \"E.M.13\"] # E.M.13, 4hrs\n",
    "\n",
    "data_4hrs_plan = plan.groupby(['dimension_name']).agg({'numerator': 'sum', 'denominator': 'sum'}).reset_index()\n",
    "\n",
    "# Calculate performance measure\n",
    "data_4hrs_plan['plan'] = data_4hrs_plan['numerator'] / data_4hrs_plan['denominator']\n",
    "\n",
    "data_4hrs_plan = data_4hrs_plan.rename(columns={'dimension_name': 'date'})\n",
    "data_4hrs_plan['date'] = pd.to_datetime(data_4hrs_plan['date'], format='%d/%m/%Y')\n",
    "\n",
    "# # Change date to end of month to match actuals\n",
    "# data_4hrs_plan['date'] = data_4hrs_plan['date'] + pd.offsets.MonthEnd(0)\n",
    "\n",
    "data_4hrs_plan.head()"
   ]
  },
  {
   "cell_type": "code",
   "execution_count": 5,
   "metadata": {},
   "outputs": [],
   "source": [
    "# Sum value to region total\n",
    "data_4hrs_actual = data_4hrs.groupby('date')['value'].sum().reset_index()\n",
    "\n",
    "# Remove 'zero' data\n",
    "data_4hrs_actual = data_4hrs_actual[data_4hrs_actual['value'] != 0]"
   ]
  },
  {
   "cell_type": "code",
   "execution_count": 12,
   "metadata": {},
   "outputs": [
    {
     "data": {
      "application/vnd.microsoft.datawrangler.viewer.v0+json": {
       "columns": [
        {
         "name": "index",
         "rawType": "int64",
         "type": "integer"
        },
        {
         "name": "date",
         "rawType": "datetime64[ns]",
         "type": "datetime"
        },
        {
         "name": "plan",
         "rawType": "float64",
         "type": "float"
        }
       ],
       "conversionMethod": "pd.DataFrame",
       "ref": "f1b30898-f662-4acf-b3ea-4c5cbbb60cd4",
       "rows": [
        [
         "0",
         "2023-11-30 00:00:00",
         null
        ],
        [
         "1",
         "2022-04-30 00:00:00",
         null
        ],
        [
         "2",
         "2023-12-31 00:00:00",
         null
        ],
        [
         "3",
         "2022-09-30 00:00:00",
         null
        ],
        [
         "4",
         "2025-01-31 00:00:00",
         null
        ]
       ],
       "shape": {
        "columns": 2,
        "rows": 5
       }
      },
      "text/html": [
       "<div>\n",
       "<style scoped>\n",
       "    .dataframe tbody tr th:only-of-type {\n",
       "        vertical-align: middle;\n",
       "    }\n",
       "\n",
       "    .dataframe tbody tr th {\n",
       "        vertical-align: top;\n",
       "    }\n",
       "\n",
       "    .dataframe thead th {\n",
       "        text-align: right;\n",
       "    }\n",
       "</style>\n",
       "<table border=\"1\" class=\"dataframe\">\n",
       "  <thead>\n",
       "    <tr style=\"text-align: right;\">\n",
       "      <th></th>\n",
       "      <th>date</th>\n",
       "      <th>plan</th>\n",
       "    </tr>\n",
       "  </thead>\n",
       "  <tbody>\n",
       "    <tr>\n",
       "      <th>0</th>\n",
       "      <td>2023-11-30</td>\n",
       "      <td>NaN</td>\n",
       "    </tr>\n",
       "    <tr>\n",
       "      <th>1</th>\n",
       "      <td>2022-04-30</td>\n",
       "      <td>NaN</td>\n",
       "    </tr>\n",
       "    <tr>\n",
       "      <th>2</th>\n",
       "      <td>2023-12-31</td>\n",
       "      <td>NaN</td>\n",
       "    </tr>\n",
       "    <tr>\n",
       "      <th>3</th>\n",
       "      <td>2022-09-30</td>\n",
       "      <td>NaN</td>\n",
       "    </tr>\n",
       "    <tr>\n",
       "      <th>4</th>\n",
       "      <td>2025-01-31</td>\n",
       "      <td>NaN</td>\n",
       "    </tr>\n",
       "  </tbody>\n",
       "</table>\n",
       "</div>"
      ],
      "text/plain": [
       "        date  plan\n",
       "0 2023-11-30   NaN\n",
       "1 2022-04-30   NaN\n",
       "2 2023-12-31   NaN\n",
       "3 2022-09-30   NaN\n",
       "4 2025-01-31   NaN"
      ]
     },
     "execution_count": 12,
     "metadata": {},
     "output_type": "execute_result"
    }
   ],
   "source": [
    "# merge data\n",
    "data_4hrs_plan = pd.merge(data_4hrs_actual, data_4hrs_plan, on='date', how='outer')\n",
    "\n",
    "data_4hrs_plan = data_4hrs_plan[['date', 'plan']]\n",
    "\n",
    "# Change date to end of month to match actuals\n",
    "data_4hrs_plan['date'] = data_4hrs_plan['date'] + pd.offsets.MonthEnd(0)\n",
    "\n",
    "data_4hrs_plan.head()"
   ]
  },
  {
   "cell_type": "code",
   "execution_count": null,
   "metadata": {},
   "outputs": [
    {
     "name": "stdout",
     "output_type": "stream",
     "text": [
      "Index(['date', 'value', 'plan'], dtype='object')\n"
     ]
    }
   ],
   "source": [
    "print(data_52wks_forecast.columns)"
   ]
  },
  {
   "cell_type": "code",
   "execution_count": 13,
   "metadata": {},
   "outputs": [
    {
     "ename": "NameError",
     "evalue": "name 'data_4hrs_forecast' is not defined",
     "output_type": "error",
     "traceback": [
      "\u001b[1;31m---------------------------------------------------------------------------\u001b[0m",
      "\u001b[1;31mNameError\u001b[0m                                 Traceback (most recent call last)",
      "Cell \u001b[1;32mIn[13], line 4\u001b[0m\n\u001b[0;32m      1\u001b[0m \u001b[38;5;66;03m# Check stationarity using ADF test\u001b[39;00m\n\u001b[0;32m      2\u001b[0m \u001b[38;5;28;01mfrom\u001b[39;00m \u001b[38;5;21;01mstatsmodels\u001b[39;00m\u001b[38;5;21;01m.\u001b[39;00m\u001b[38;5;21;01mtsa\u001b[39;00m\u001b[38;5;21;01m.\u001b[39;00m\u001b[38;5;21;01mstattools\u001b[39;00m \u001b[38;5;28;01mimport\u001b[39;00m adfuller\n\u001b[1;32m----> 4\u001b[0m result \u001b[38;5;241m=\u001b[39m adfuller(\u001b[43mdata_4hrs_forecast\u001b[49m[\u001b[38;5;124m'\u001b[39m\u001b[38;5;124mvalue\u001b[39m\u001b[38;5;124m'\u001b[39m]\u001b[38;5;241m.\u001b[39mdropna())\n\u001b[0;32m      5\u001b[0m \u001b[38;5;28mprint\u001b[39m(\u001b[38;5;124mf\u001b[39m\u001b[38;5;124m\"\u001b[39m\u001b[38;5;124mADF Statistic: \u001b[39m\u001b[38;5;132;01m{\u001b[39;00mresult[\u001b[38;5;241m0\u001b[39m]\u001b[38;5;132;01m}\u001b[39;00m\u001b[38;5;124m\"\u001b[39m)\n\u001b[0;32m      6\u001b[0m \u001b[38;5;28mprint\u001b[39m(\u001b[38;5;124mf\u001b[39m\u001b[38;5;124m\"\u001b[39m\u001b[38;5;124mp-value: \u001b[39m\u001b[38;5;132;01m{\u001b[39;00mresult[\u001b[38;5;241m1\u001b[39m]\u001b[38;5;132;01m}\u001b[39;00m\u001b[38;5;124m\"\u001b[39m)\n",
      "\u001b[1;31mNameError\u001b[0m: name 'data_4hrs_forecast' is not defined"
     ]
    }
   ],
   "source": [
    "# Check stationarity using ADF test\n",
    "from statsmodels.tsa.stattools import adfuller\n",
    "\n",
    "result = adfuller(data_4hrs_forecast['value'].dropna())\n",
    "print(f\"ADF Statistic: {result[0]}\")\n",
    "print(f\"p-value: {result[1]}\")\n",
    "\n",
    "# If p-value > 0.05, data is non-stationary, so we need to difference it\n",
    "if result[1] > 0.05:\n",
    "    data_4hrs_forecast['value'] = data_4hrs_forecast['value'].diff().dropna()\n",
    "    data_4hrs_forecast = data_4hrs_forecast.dropna()"
   ]
  },
  {
   "cell_type": "code",
   "execution_count": 10,
   "metadata": {},
   "outputs": [
    {
     "name": "stderr",
     "output_type": "stream",
     "text": [
      "c:\\Users\\martin.bloyce2\\AppData\\Local\\anaconda3\\envs\\hsma_forecast\\Lib\\site-packages\\statsmodels\\tsa\\base\\tsa_model.py:473: ValueWarning: A date index has been provided, but it has no associated frequency information and so will be ignored when e.g. forecasting.\n",
      "  self._init_dates(dates, freq)\n",
      "c:\\Users\\martin.bloyce2\\AppData\\Local\\anaconda3\\envs\\hsma_forecast\\Lib\\site-packages\\statsmodels\\tsa\\base\\tsa_model.py:473: ValueWarning: A date index has been provided, but it is not monotonic and so will be ignored when e.g. forecasting.\n",
      "  self._init_dates(dates, freq)\n",
      "c:\\Users\\martin.bloyce2\\AppData\\Local\\anaconda3\\envs\\hsma_forecast\\Lib\\site-packages\\statsmodels\\tsa\\base\\tsa_model.py:473: ValueWarning: A date index has been provided, but it has no associated frequency information and so will be ignored when e.g. forecasting.\n",
      "  self._init_dates(dates, freq)\n",
      "c:\\Users\\martin.bloyce2\\AppData\\Local\\anaconda3\\envs\\hsma_forecast\\Lib\\site-packages\\statsmodels\\tsa\\base\\tsa_model.py:473: ValueWarning: A date index has been provided, but it is not monotonic and so will be ignored when e.g. forecasting.\n",
      "  self._init_dates(dates, freq)\n",
      "c:\\Users\\martin.bloyce2\\AppData\\Local\\anaconda3\\envs\\hsma_forecast\\Lib\\site-packages\\statsmodels\\tsa\\base\\tsa_model.py:473: ValueWarning: A date index has been provided, but it has no associated frequency information and so will be ignored when e.g. forecasting.\n",
      "  self._init_dates(dates, freq)\n",
      "c:\\Users\\martin.bloyce2\\AppData\\Local\\anaconda3\\envs\\hsma_forecast\\Lib\\site-packages\\statsmodels\\tsa\\base\\tsa_model.py:473: ValueWarning: A date index has been provided, but it is not monotonic and so will be ignored when e.g. forecasting.\n",
      "  self._init_dates(dates, freq)\n",
      "c:\\Users\\martin.bloyce2\\AppData\\Local\\anaconda3\\envs\\hsma_forecast\\Lib\\site-packages\\statsmodels\\tsa\\statespace\\sarimax.py:966: UserWarning: Non-stationary starting autoregressive parameters found. Using zeros as starting parameters.\n",
      "  warn('Non-stationary starting autoregressive parameters'\n",
      "c:\\Users\\martin.bloyce2\\AppData\\Local\\anaconda3\\envs\\hsma_forecast\\Lib\\site-packages\\statsmodels\\base\\model.py:607: ConvergenceWarning: Maximum Likelihood optimization failed to converge. Check mle_retvals\n",
      "  warnings.warn(\"Maximum Likelihood optimization failed to \"\n",
      "c:\\Users\\martin.bloyce2\\AppData\\Local\\anaconda3\\envs\\hsma_forecast\\Lib\\site-packages\\statsmodels\\tsa\\base\\tsa_model.py:837: ValueWarning: No supported index is available. Prediction results will be given with an integer index beginning at `start`.\n",
      "  return get_prediction_index(\n",
      "c:\\Users\\martin.bloyce2\\AppData\\Local\\anaconda3\\envs\\hsma_forecast\\Lib\\site-packages\\statsmodels\\tsa\\base\\tsa_model.py:837: FutureWarning: No supported index is available. In the next version, calling this method in a model without a supported index will result in an exception.\n",
      "  return get_prediction_index(\n"
     ]
    },
    {
     "data": {
      "image/png": "[encoded data removed]",
      "text/plain": [
       "<Figure size 1000x500 with 1 Axes>"
      ]
     },
     "metadata": {},
     "output_type": "display_data"
    },
    {
     "name": "stdout",
     "output_type": "stream",
     "text": [
      "Probability of hitting the target by 2026-03-31: 0.00%\n",
      "Last date in training data: 2024-07-31 00:00:00\n"
     ]
    }
   ],
   "source": [
    "data_4hrs_forecast = data_4hrs_actual\n",
    "\n",
    "# Ensure the date column is parsed as datetime and set as index\n",
    "# data_52wks_forecast['date'] = pd.to_datetime(data_52wks_forecast['date'])\n",
    "data_4hrs_forecast = data_4hrs_forecast.set_index('date')\n",
    "\n",
    "# Ensure data is in monthly frequency\n",
    "data_4hrs_forecast = data_4hrs_forecast.resample('M').mean()\n",
    "\n",
    "# Combine the date ranges from forecast and plan\n",
    "combined_dates = data_4hrs_forecast.index.union(data_4hrs_plan['date'])\n",
    "\n",
    "# Reindex data_4hrs_forecast to include all dates in the combined range\n",
    "data_4hrs_forecast = data_4hrs_forecast.reindex(combined_dates)\n",
    "\n",
    "# Reset plan index to match forecast index\n",
    "data_4hrs_plan = data_4hrs_plan.set_index('date').reindex(data_4hrs_forecast.index).reset_index()\n",
    "\n",
    "# Select the column to use for ARIMA model\n",
    "endog = data_4hrs_forecast['value']\n",
    "\n",
    "# Define the target date and value\n",
    "target_date = '2026-03-31'\n",
    "target_value = 0.95 # NHS 4 hour target\n",
    "\n",
    "# Split data into training and testing sets\n",
    "# Find the length of data_4hrs_forecast ignoring missing values\n",
    "length = len(data_4hrs_forecast.dropna())\n",
    "train = data_4hrs_forecast[:int(0.8*length)]\n",
    "test = data_4hrs_forecast[int(0.8*length):]\n",
    "\n",
    "# Fit ARIMA model\n",
    "model = ARIMA(endog, order=(20,1,0))\n",
    "model_fit = model.fit()\n",
    "\n",
    "# Forecast up to the target date\n",
    "forecast_steps = len(pd.date_range(start=train.index[-1], end=target_date, freq='M'))\n",
    "forecast_result = model_fit.get_forecast(steps=forecast_steps)\n",
    "forecast = forecast_result.predicted_mean\n",
    "conf_int = forecast_result.conf_int()\n",
    "\n",
    "# Create a date range for the forecast\n",
    "forecast_index = pd.date_range(start=train.index[-1], periods=forecast_steps + 1, freq='M')[1:]\n",
    "\n",
    "# Plot forecast with confidence intervals\n",
    "plt.figure(figsize=(10,5))\n",
    "plt.plot(train.index, train['value'], label='Training Data')\n",
    "plt.plot(test.index, test['value'], label='Actual Data')\n",
    "plt.plot(forecast_index, forecast, label='Forecast')\n",
    "\n",
    "# Add data labels to the forecast line for every other month\n",
    "for i, (x, y) in enumerate(zip(forecast_index, forecast)):\n",
    "    if i % 2 == 0:  # Show label only for every other month\n",
    "        plt.annotate(f'{y * 100:.1f}%', (x, y), textcoords=\"offset points\", xytext=(0, 5), ha='center', fontsize=5)\n",
    "\n",
    "plt.fill_between(forecast_index, conf_int.iloc[:, 0], conf_int.iloc[:, 1], color='k', alpha=0.1)\n",
    "# Plot the plan data from data_4hrs_plan\n",
    "plt.plot(data_4hrs_plan['date'], data_4hrs_plan['plan'], label='Plan', color='orange', linestyle='--')\n",
    "\n",
    "plt.axhline(y=target_value, color='r', linestyle='--', label='Target Value')\n",
    "\n",
    "# Set y-axis to percentage\n",
    "plt.gca().yaxis.set_major_formatter(mtick.PercentFormatter(1.0))  # Scale values to percentage\n",
    "\n",
    "# plt.plot(data_52wks_forecast.index, data_52wks_forecast['plan'], label='Plan', color='orange')\n",
    "plt.legend()\n",
    "plt.show()\n",
    "\n",
    "# Calculate probability of hitting target on the target date\n",
    "target_conf_int = conf_int.iloc[-1]  # Confidence interval on the target date\n",
    "probability = np.mean((target_conf_int[0] <= target_value) & (target_conf_int[1] >= target_value))\n",
    "print(f'Probability of hitting the target by {target_date}: {probability*100:.2f}%')\n",
    "\n",
    "print(\"Last date in training data:\", train.index[-1])"
   ]
  }
 ],
 "metadata": {
  "kernelspec": {
   "display_name": "hsma_forecast",
   "language": "python",
   "name": "python3"
  },
  "language_info": {
   "codemirror_mode": {
    "name": "ipython",
    "version": 3
   },
   "file_extension": ".py",
   "mimetype": "text/x-python",
   "name": "python",
   "nbconvert_exporter": "python",
   "pygments_lexer": "ipython3",
   "version": "3.11.4"
  }
 },
 "nbformat": 4,
 "nbformat_minor": 2
}
