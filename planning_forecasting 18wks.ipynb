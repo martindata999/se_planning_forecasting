{
 "cells": [
  {
   "cell_type": "code",
   "execution_count": null,
   "metadata": {},
   "outputs": [
    {
     "ename": "ModuleNotFoundError",
     "evalue": "No module named 'pmdarima'",
     "output_type": "error",
     "traceback": [
      "\u001b[1;31m---------------------------------------------------------------------------\u001b[0m",
      "\u001b[1;31mModuleNotFoundError\u001b[0m                       Traceback (most recent call last)",
      "Cell \u001b[1;32mIn[42], line 6\u001b[0m\n\u001b[0;32m      4\u001b[0m \u001b[38;5;28;01mimport\u001b[39;00m \u001b[38;5;21;01mnumpy\u001b[39;00m \u001b[38;5;28;01mas\u001b[39;00m \u001b[38;5;21;01mnp\u001b[39;00m\n\u001b[0;32m      5\u001b[0m \u001b[38;5;28;01mfrom\u001b[39;00m \u001b[38;5;21;01mstatsmodels\u001b[39;00m\u001b[38;5;21;01m.\u001b[39;00m\u001b[38;5;21;01mtsa\u001b[39;00m\u001b[38;5;21;01m.\u001b[39;00m\u001b[38;5;21;01marima\u001b[39;00m\u001b[38;5;21;01m.\u001b[39;00m\u001b[38;5;21;01mmodel\u001b[39;00m \u001b[38;5;28;01mimport\u001b[39;00m ARIMA\n\u001b[1;32m----> 6\u001b[0m \u001b[38;5;28;01mimport\u001b[39;00m \u001b[38;5;21;01mpmdarima\u001b[39;00m \u001b[38;5;28;01mas\u001b[39;00m \u001b[38;5;21;01mpm\u001b[39;00m\n\u001b[0;32m      7\u001b[0m \u001b[38;5;28;01mimport\u001b[39;00m \u001b[38;5;21;01mmatplotlib\u001b[39;00m\u001b[38;5;21;01m.\u001b[39;00m\u001b[38;5;21;01mpyplot\u001b[39;00m \u001b[38;5;28;01mas\u001b[39;00m \u001b[38;5;21;01mplt\u001b[39;00m\n\u001b[0;32m      8\u001b[0m \u001b[38;5;28;01mimport\u001b[39;00m \u001b[38;5;21;01mmatplotlib\u001b[39;00m\u001b[38;5;21;01m.\u001b[39;00m\u001b[38;5;21;01mticker\u001b[39;00m \u001b[38;5;28;01mas\u001b[39;00m \u001b[38;5;21;01mmtick\u001b[39;00m  \u001b[38;5;66;03m# Import PercentFormatter\u001b[39;00m\n",
      "\u001b[1;31mModuleNotFoundError\u001b[0m: No module named 'pmdarima'"
     ]
    }
   ],
   "source": [
    "# Import modules\n",
    "\n",
    "import pandas as pd\n",
    "import numpy as np\n",
    "from statsmodels.tsa.arima.model import ARIMA\n",
    "import matplotlib.pyplot as plt\n",
    "import matplotlib.ticker as mtick  # Import PercentFormatter\n"
   ]
  },
  {
   "cell_type": "code",
   "execution_count": 34,
   "metadata": {},
   "outputs": [
    {
     "data": {
      "application/vnd.microsoft.datawrangler.viewer.v0+json": {
       "columns": [
        {
         "name": "index",
         "rawType": "int64",
         "type": "integer"
        },
        {
         "name": "date",
         "rawType": "datetime64[ns]",
         "type": "datetime"
        },
        {
         "name": "value",
         "rawType": "float64",
         "type": "float"
        }
       ],
       "conversionMethod": "pd.DataFrame",
       "ref": "2c1fdd35-998e-4f9a-8745-85611ff22e4a",
       "rows": [
        [
         "0",
         "2023-11-01 00:00:00",
         "0.5673809198597309"
        ],
        [
         "1",
         "2022-10-01 00:00:00",
         "0.6072566558981479"
        ],
        [
         "2",
         "2023-12-01 00:00:00",
         "0.5514681496976964"
        ],
        [
         "3",
         "2022-12-01 00:00:00",
         "0.5773592974142208"
        ],
        [
         "4",
         "2025-01-01 00:00:00",
         "0.5768554304869613"
        ]
       ],
       "shape": {
        "columns": 2,
        "rows": 5
       }
      },
      "text/html": [
       "<div>\n",
       "<style scoped>\n",
       "    .dataframe tbody tr th:only-of-type {\n",
       "        vertical-align: middle;\n",
       "    }\n",
       "\n",
       "    .dataframe tbody tr th {\n",
       "        vertical-align: top;\n",
       "    }\n",
       "\n",
       "    .dataframe thead th {\n",
       "        text-align: right;\n",
       "    }\n",
       "</style>\n",
       "<table border=\"1\" class=\"dataframe\">\n",
       "  <thead>\n",
       "    <tr style=\"text-align: right;\">\n",
       "      <th></th>\n",
       "      <th>date</th>\n",
       "      <th>value</th>\n",
       "    </tr>\n",
       "  </thead>\n",
       "  <tbody>\n",
       "    <tr>\n",
       "      <th>0</th>\n",
       "      <td>2023-11-01</td>\n",
       "      <td>0.567381</td>\n",
       "    </tr>\n",
       "    <tr>\n",
       "      <th>1</th>\n",
       "      <td>2022-10-01</td>\n",
       "      <td>0.607257</td>\n",
       "    </tr>\n",
       "    <tr>\n",
       "      <th>2</th>\n",
       "      <td>2023-12-01</td>\n",
       "      <td>0.551468</td>\n",
       "    </tr>\n",
       "    <tr>\n",
       "      <th>3</th>\n",
       "      <td>2022-12-01</td>\n",
       "      <td>0.577359</td>\n",
       "    </tr>\n",
       "    <tr>\n",
       "      <th>4</th>\n",
       "      <td>2025-01-01</td>\n",
       "      <td>0.576855</td>\n",
       "    </tr>\n",
       "  </tbody>\n",
       "</table>\n",
       "</div>"
      ],
      "text/plain": [
       "        date     value\n",
       "0 2023-11-01  0.567381\n",
       "1 2022-10-01  0.607257\n",
       "2 2023-12-01  0.551468\n",
       "3 2022-12-01  0.577359\n",
       "4 2025-01-01  0.576855"
      ]
     },
     "execution_count": 34,
     "metadata": {},
     "output_type": "execute_result"
    }
   ],
   "source": [
    "# Load data\n",
    "data_18wks_actual = pd.read_csv('data\\historic_actuals_18wks.csv')\n",
    "\n",
    "# Rename month column, filter error months, and set data type to date\n",
    "data_18wks_actual = data_18wks_actual.rename(columns={'DimDateStart': 'date', '18wks': 'value'})\n",
    "\n",
    "data_18wks_actual['date'] = pd.to_datetime(data_18wks_actual['date'])\n",
    "\n",
    "# Filter post-covid\n",
    "# data_18wks_actual = data_18wks_actual[data_18wks_actual['date'] >= '2022-03-01']\n",
    "\n",
    "data_18wks_actual.head()"
   ]
  },
  {
   "cell_type": "code",
   "execution_count": 36,
   "metadata": {},
   "outputs": [
    {
     "data": {
      "application/vnd.microsoft.datawrangler.viewer.v0+json": {
       "columns": [
        {
         "name": "index",
         "rawType": "int64",
         "type": "integer"
        },
        {
         "name": "date",
         "rawType": "datetime64[ns]",
         "type": "datetime"
        },
        {
         "name": "plan",
         "rawType": "float64",
         "type": "float"
        }
       ],
       "conversionMethod": "pd.DataFrame",
       "ref": "a35066ed-fbca-4c87-b4bf-84319b4c0699",
       "rows": [
        [
         "0",
         "2025-05-01 00:00:00",
         "0.5859592725608236"
        ],
        [
         "1",
         "2026-03-01 00:00:00",
         "0.6381152756126036"
        ],
        [
         "2",
         "2025-11-01 00:00:00",
         "0.6110470272299025"
        ],
        [
         "3",
         "2026-02-01 00:00:00",
         "0.6283599433781268"
        ],
        [
         "4",
         "2026-01-01 00:00:00",
         "0.6226482115128062"
        ]
       ],
       "shape": {
        "columns": 2,
        "rows": 5
       }
      },
      "text/html": [
       "<div>\n",
       "<style scoped>\n",
       "    .dataframe tbody tr th:only-of-type {\n",
       "        vertical-align: middle;\n",
       "    }\n",
       "\n",
       "    .dataframe tbody tr th {\n",
       "        vertical-align: top;\n",
       "    }\n",
       "\n",
       "    .dataframe thead th {\n",
       "        text-align: right;\n",
       "    }\n",
       "</style>\n",
       "<table border=\"1\" class=\"dataframe\">\n",
       "  <thead>\n",
       "    <tr style=\"text-align: right;\">\n",
       "      <th></th>\n",
       "      <th>date</th>\n",
       "      <th>plan</th>\n",
       "    </tr>\n",
       "  </thead>\n",
       "  <tbody>\n",
       "    <tr>\n",
       "      <th>0</th>\n",
       "      <td>2025-05-01</td>\n",
       "      <td>0.585959</td>\n",
       "    </tr>\n",
       "    <tr>\n",
       "      <th>1</th>\n",
       "      <td>2026-03-01</td>\n",
       "      <td>0.638115</td>\n",
       "    </tr>\n",
       "    <tr>\n",
       "      <th>2</th>\n",
       "      <td>2025-11-01</td>\n",
       "      <td>0.611047</td>\n",
       "    </tr>\n",
       "    <tr>\n",
       "      <th>3</th>\n",
       "      <td>2026-02-01</td>\n",
       "      <td>0.628360</td>\n",
       "    </tr>\n",
       "    <tr>\n",
       "      <th>4</th>\n",
       "      <td>2026-01-01</td>\n",
       "      <td>0.622648</td>\n",
       "    </tr>\n",
       "  </tbody>\n",
       "</table>\n",
       "</div>"
      ],
      "text/plain": [
       "        date      plan\n",
       "0 2025-05-01  0.585959\n",
       "1 2026-03-01  0.638115\n",
       "2 2025-11-01  0.611047\n",
       "3 2026-02-01  0.628360\n",
       "4 2026-01-01  0.622648"
      ]
     },
     "execution_count": 36,
     "metadata": {},
     "output_type": "execute_result"
    }
   ],
   "source": [
    "# Load plan data\n",
    "data_18wks_plan = pd.read_csv('data\\plans_18wks.csv')\n",
    "# Rename month column, filter error months, and set data type to date\n",
    "data_18wks_plan = data_18wks_plan.rename(columns={'DimDateStart': 'date', '18wks': 'plan'})\n",
    "\n",
    "data_18wks_plan['date'] = pd.to_datetime(data_18wks_plan['date'])\n",
    "\n",
    "data_18wks_plan.head()"
   ]
  },
  {
   "cell_type": "code",
   "execution_count": 41,
   "metadata": {},
   "outputs": [
    {
     "name": "stdout",
     "output_type": "stream",
     "text": [
      "ADF Statistic: -3.327477252739148\n",
      "critial values: {'1%': -3.6889256286443146, '5%': -2.9719894897959187, '10%': -2.6252957653061224}\n",
      "p-value: 0.013694036253519167\n"
     ]
    }
   ],
   "source": [
    "# Check stationarity using ADF test\n",
    "from statsmodels.tsa.stattools import adfuller\n",
    "\n",
    "result = adfuller(data_18wks_forecast['value'].dropna())\n",
    "print(f\"ADF Statistic: {result[0]}\")\n",
    "print(f\"critial values: {result[4]}\")\n",
    "print(f\"p-value: {result[1]}\")\n",
    "\n",
    "# If p-value > 0.05, data is non-stationary, so we need to difference it\n",
    "if result[1] > 0.05:\n",
    "    data_18wks_forecast['value'] = data_18wks_forecast['value'].diff().dropna()\n",
    "    data_18wks_forecast = data_18wks_forecast.dropna()"
   ]
  },
  {
   "cell_type": "code",
   "execution_count": 45,
   "metadata": {},
   "outputs": [
    {
     "name": "stderr",
     "output_type": "stream",
     "text": [
      "c:\\Users\\martin.bloyce2\\AppData\\Local\\anaconda3\\envs\\hsma_forecast\\Lib\\site-packages\\statsmodels\\tsa\\base\\tsa_model.py:473: ValueWarning: A date index has been provided, but it has no associated frequency information and so will be ignored when e.g. forecasting.\n",
      "  self._init_dates(dates, freq)\n",
      "c:\\Users\\martin.bloyce2\\AppData\\Local\\anaconda3\\envs\\hsma_forecast\\Lib\\site-packages\\statsmodels\\tsa\\base\\tsa_model.py:473: ValueWarning: A date index has been provided, but it has no associated frequency information and so will be ignored when e.g. forecasting.\n",
      "  self._init_dates(dates, freq)\n",
      "c:\\Users\\martin.bloyce2\\AppData\\Local\\anaconda3\\envs\\hsma_forecast\\Lib\\site-packages\\statsmodels\\tsa\\base\\tsa_model.py:473: ValueWarning: A date index has been provided, but it has no associated frequency information and so will be ignored when e.g. forecasting.\n",
      "  self._init_dates(dates, freq)\n",
      "c:\\Users\\martin.bloyce2\\AppData\\Local\\anaconda3\\envs\\hsma_forecast\\Lib\\site-packages\\statsmodels\\tsa\\statespace\\sarimax.py:866: UserWarning: Too few observations to estimate starting parameters for ARMA and trend. All parameters except for variances will be set to zeros.\n",
      "  warn('Too few observations to estimate starting parameters%s.'\n",
      "c:\\Users\\martin.bloyce2\\AppData\\Local\\anaconda3\\envs\\hsma_forecast\\Lib\\site-packages\\statsmodels\\base\\model.py:607: ConvergenceWarning: Maximum Likelihood optimization failed to converge. Check mle_retvals\n",
      "  warnings.warn(\"Maximum Likelihood optimization failed to \"\n",
      "c:\\Users\\martin.bloyce2\\AppData\\Local\\anaconda3\\envs\\hsma_forecast\\Lib\\site-packages\\statsmodels\\tsa\\base\\tsa_model.py:837: ValueWarning: No supported index is available. Prediction results will be given with an integer index beginning at `start`.\n",
      "  return get_prediction_index(\n",
      "c:\\Users\\martin.bloyce2\\AppData\\Local\\anaconda3\\envs\\hsma_forecast\\Lib\\site-packages\\statsmodels\\tsa\\base\\tsa_model.py:837: FutureWarning: No supported index is available. In the next version, calling this method in a model without a supported index will result in an exception.\n",
      "  return get_prediction_index(\n"
     ]
    },
    {
     "data": {
      "image/png": "[encoded data removed]",
      "text/plain": [
       "<Figure size 1000x500 with 1 Axes>"
      ]
     },
     "metadata": {},
     "output_type": "display_data"
    },
    {
     "name": "stdout",
     "output_type": "stream",
     "text": [
      "Probability of hitting the target by 2026-03-31: 0.00%\n",
      "Last date in training data: 2024-08-31 00:00:00\n"
     ]
    }
   ],
   "source": [
    "data_18wks_forecast = data_18wks_actual\n",
    "\n",
    "# Ensure the date column is parsed as datetime and set as index\n",
    "# data_52wks_forecast['date'] = pd.to_datetime(data_52wks_forecast['date'])\n",
    "data_18wks_forecast = data_18wks_forecast.set_index('date')\n",
    "\n",
    "# Ensure data is in monthly frequency\n",
    "data_18wks_forecast = data_18wks_forecast.resample('M').mean()\n",
    "\n",
    "# Combine the date ranges from forecast and plan\n",
    "combined_dates = data_18wks_forecast.index.union(data_18wks_plan['date'])\n",
    "\n",
    "# Reindex data_18wks_forecast to include all dates in the combined range\n",
    "data_18wks_forecast = data_18wks_forecast.reindex(combined_dates)\n",
    "\n",
    "# Reset plan index to match forecast index\n",
    "data_18wks_plan = data_18wks_plan.set_index('date').reindex(data_18wks_forecast.index).reset_index()\n",
    "\n",
    "# Select the column to use for ARIMA model\n",
    "endog = data_18wks_forecast['value']\n",
    "\n",
    "# Define the target date and value\n",
    "target_date = '2026-03-31'\n",
    "target_value = 0.643 # NHS 18 week target for SE\n",
    "\n",
    "# Split data into training and testing sets\n",
    "# Find the length of data_18wks_forecast ignoring missing values\n",
    "length = len(data_18wks_forecast.dropna())\n",
    "train = data_18wks_forecast[:int(0.8*length)]\n",
    "test = data_18wks_forecast[int(0.8*length):]\n",
    "\n",
    "# Fit ARIMA model\n",
    "model = ARIMA(endog, order=(29,1,0))\n",
    "model_fit = model.fit()\n",
    "\n",
    "# Forecast up to the target date\n",
    "forecast_steps = len(pd.date_range(start=train.index[-1], end=target_date, freq='M'))\n",
    "forecast_result = model_fit.get_forecast(steps=forecast_steps)\n",
    "forecast = forecast_result.predicted_mean\n",
    "conf_int = forecast_result.conf_int()\n",
    "\n",
    "# Create a date range for the forecast\n",
    "forecast_index = pd.date_range(start=train.index[-1], periods=forecast_steps + 1, freq='M')[1:]\n",
    "\n",
    "# Plot forecast with confidence intervals\n",
    "plt.figure(figsize=(10,5))\n",
    "plt.plot(train.index, train['value'], label='Training Data')\n",
    "plt.plot(test.index, test['value'], label='Actual Data')\n",
    "plt.plot(forecast_index, forecast, label='Forecast')\n",
    "\n",
    "# Add data labels to the forecast line for every third month\n",
    "for i, (x, y) in enumerate(zip(forecast_index, forecast)):\n",
    "    if i % 3 == 0:  # Show label only for every third month\n",
    "        plt.annotate(f'{y * 100:.1f}%', (x, y), textcoords=\"offset points\", xytext=(0, 5), ha='center', fontsize=5)\n",
    "\n",
    "plt.fill_between(forecast_index, conf_int.iloc[:, 0], conf_int.iloc[:, 1], color='k', alpha=0.1)\n",
    "# Plot the plan data from data_4hrs_plan\n",
    "plt.plot(data_18wks_plan['date'], data_18wks_plan['plan'], label='Plan', color='orange', linestyle='--')\n",
    "\n",
    "plt.axhline(y=target_value, color='r', linestyle='--', label='Target Value')\n",
    "\n",
    "# Set y axis limits\n",
    "plt.ylim(0, 1)  # Set y-axis limits to 0 and 1 (0% to 100%)\n",
    "\n",
    "# Set y-axis to percentage\n",
    "plt.gca().yaxis.set_major_formatter(mtick.PercentFormatter(1.0))  # Scale values to percentage\n",
    "\n",
    "# plt.plot(data_52wks_forecast.index, data_52wks_forecast['plan'], label='Plan', color='orange')\n",
    "plt.legend()\n",
    "plt.show()\n",
    "\n",
    "# Calculate probability of hitting target on the target date\n",
    "target_conf_int = conf_int.iloc[-1]  # Confidence interval on the target date\n",
    "probability = np.mean((target_conf_int[0] <= target_value) & (target_conf_int[1] >= target_value))\n",
    "print(f'Probability of hitting the target by {target_date}: {probability*100:.2f}%')\n",
    "\n",
    "print(\"Last date in training data:\", train.index[-1])"
   ]
  }
 ],
 "metadata": {
  "kernelspec": {
   "display_name": "hsma_forecast",
   "language": "python",
   "name": "python3"
  },
  "language_info": {
   "codemirror_mode": {
    "name": "ipython",
    "version": 3
   },
   "file_extension": ".py",
   "mimetype": "text/x-python",
   "name": "python",
   "nbconvert_exporter": "python",
   "pygments_lexer": "ipython3",
   "version": "3.11.4"
  }
 },
 "nbformat": 4,
 "nbformat_minor": 2
}
